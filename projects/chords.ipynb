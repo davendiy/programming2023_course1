{
 "cells": [
  {
   "cell_type": "markdown",
   "id": "0b54ad8e-02a4-4661-9a51-2d4b8f2760ab",
   "metadata": {},
   "source": [
    "# Редактор пісень з акордами. \n",
    "\n",
    "Реалізуйте програму з графічним інтерфейсом, яка дозволяє створювати/редагувати/видаляти пісні з прив'язаними до них акордами. \n",
    "\n",
    "Алгоритм створення пісні: \n",
    "1. Користувач натискає кнопку \"створити пісню\". \n",
    "2. Відкривається текстове вікно\n",
    "3. Користувач вводить текст пісні, розділений символами нового рядку і натискає \"Зберегти\" \n",
    "4. Відкривається вікно додавання акордів. Акорд (або кілька акордів) можна додати до кожного слова (підказка: кожне слово має бути окремим текстовим полем, на яке можна натиснути). \n",
    "5. Користувач також може ввести тональність, в якій ця пісня написана. Якщо тональність не вказана, то тонікою вважається основа останнього акорду.\n",
    "\n",
    "Забезпечити зберігання пісні у файл (підказка: використайте json формат), відкриття вже створеної пісні. \n",
    "\n",
    "Додати можливість транспонувати пісню на `N` півтонів"
   ]
  },
  {
   "cell_type": "markdown",
   "id": "627984a2-6b27-4412-9dde-45653d311425",
   "metadata": {},
   "source": [
    "### Вказівки: \n",
    "\n",
    "`json` -- це спеціальний формат текстових файлів, який дуже схожий на звичайні пайтонівські словники. Його можна дуже просто використати, щоб зберегти якусь структуру у файл, а потім її звідти дістати."
   ]
  },
  {
   "cell_type": "code",
   "execution_count": 2,
   "id": "bc2949ca-4ee4-4bf1-ac27-341041eb5d3e",
   "metadata": {},
   "outputs": [
    {
     "name": "stdout",
     "output_type": "stream",
     "text": [
      "{'some_key': 'some_value', 'some_key2': ['list', 'of', 'values']}\n"
     ]
    }
   ],
   "source": [
    "import json \n",
    "\n",
    "text = \"\"\"{\n",
    "    \"some_key\": \"some_value\", \n",
    "    \"some_key2\": [\"list\", \"of\", \"values\"]\n",
    "}\n",
    "\"\"\"\n",
    "\n",
    "value = json.loads(text)\n",
    "print(value)"
   ]
  },
  {
   "cell_type": "code",
   "execution_count": 5,
   "id": "1c9036c0-cc52-422b-b9b5-f9d8430aa285",
   "metadata": {},
   "outputs": [],
   "source": [
    "with open('example.json', 'w') as file: \n",
    "    json.dump(value, file, indent=2)"
   ]
  },
  {
   "cell_type": "code",
   "execution_count": 6,
   "id": "748a4e61-630e-403e-a96c-b885455fdab4",
   "metadata": {},
   "outputs": [
    {
     "name": "stdout",
     "output_type": "stream",
     "text": [
      "{\n",
      "  \"some_key\": \"some_value\",\n",
      "  \"some_key2\": [\n",
      "    \"list\",\n",
      "    \"of\",\n",
      "    \"values\"\n",
      "  ]\n",
      "}"
     ]
    }
   ],
   "source": [
    "!cat example.json"
   ]
  },
  {
   "cell_type": "markdown",
   "id": "d5b60c64-c769-46d0-8581-d808b3a78852",
   "metadata": {},
   "source": [
    "Для транспонування можна використати, наприклад, бібліотеку [pytransposer](https://pypi.org/project/pytransposer/):"
   ]
  },
  {
   "cell_type": "code",
   "execution_count": 10,
   "id": "d7f6583a-93f8-41e8-883c-9aa08cfbae08",
   "metadata": {},
   "outputs": [
    {
     "data": {
      "text/plain": [
       "'F'"
      ]
     },
     "execution_count": 10,
     "metadata": {},
     "output_type": "execute_result"
    }
   ],
   "source": [
    "import pytransposer.transposer as tr\n",
    "\n",
    "tr.transpose_chord('Fb', 1, 'Db')"
   ]
  },
  {
   "cell_type": "markdown",
   "id": "47a7e0f5-b567-4275-9d34-6ee128cdf142",
   "metadata": {},
   "source": [
    "# Додатково: \n",
    "\n",
    "Зробити автоматичне програвання акордів, використовуючи [musicpy](https://pypi.org/project/musicpy/). Вважати, що довжина акорда залежить від к-ті складів (тобто голосних літер)."
   ]
  }
 ],
 "metadata": {
  "kernelspec": {
   "display_name": "Python 3 (ipykernel)",
   "language": "python",
   "name": "python3"
  },
  "language_info": {
   "codemirror_mode": {
    "name": "ipython",
    "version": 3
   },
   "file_extension": ".py",
   "mimetype": "text/x-python",
   "name": "python",
   "nbconvert_exporter": "python",
   "pygments_lexer": "ipython3",
   "version": "3.11.8"
  }
 },
 "nbformat": 4,
 "nbformat_minor": 5
}
