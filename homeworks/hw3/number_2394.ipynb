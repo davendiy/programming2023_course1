{
 "cells": [
  {
   "cell_type": "code",
   "execution_count": 1,
   "id": "b8c620cc",
   "metadata": {},
   "outputs": [
    {
     "name": "stdout",
     "output_type": "stream",
     "text": [
      "10000\n",
      "9376\n"
     ]
    }
   ],
   "source": [
    "answers = [\n",
    "    1, \n",
    "    5,\n",
    "    6,\n",
    "    25,\n",
    "    76,\n",
    "    376,\n",
    "    625,\n",
    "    9376,\n",
    "    90625,\n",
    "    109376,\n",
    "    890625,\n",
    "    2890625,\n",
    "    7109376,\n",
    "    12890625,\n",
    "    87109376,\n",
    "    212890625,\n",
    "    787109376,\n",
    "]\n",
    "\n",
    "\n",
    "n = int(input())\n",
    "\n",
    "for x in answers[::-1]: \n",
    "    if x <= n: \n",
    "        print(x)\n",
    "        break\n"
   ]
  },
  {
   "cell_type": "code",
   "execution_count": 13,
   "id": "20d3cd3e",
   "metadata": {},
   "outputs": [
    {
     "name": "stdout",
     "output_type": "stream",
     "text": [
      "10000\n",
      "9376\n"
     ]
    }
   ],
   "source": [
    "seq = [1,] + [5 ** (2 ** n) % 10 ** n for n in range(10)] + [16 ** (5 ** n) % 10 ** n for n in range(10)]\n",
    "seq.sort(reverse=True)\n",
    "\n",
    "n = int(input())\n",
    "\n",
    "for x in seq: \n",
    "    if x <= n: \n",
    "        print(x)\n",
    "        break"
   ]
  },
  {
   "cell_type": "code",
   "execution_count": 3,
   "id": "457cd503",
   "metadata": {},
   "outputs": [],
   "source": [
    "seq1 = [5^(2^n) % 10^n for n in range(10)]"
   ]
  },
  {
   "cell_type": "code",
   "execution_count": 4,
   "id": "bcb4502c",
   "metadata": {},
   "outputs": [
    {
     "data": {
      "text/plain": [
       "[0, 5, 25, 625, 625, 90625, 890625, 2890625, 12890625, 212890625]"
      ]
     },
     "execution_count": 4,
     "metadata": {},
     "output_type": "execute_result"
    }
   ],
   "source": [
    "seq1"
   ]
  },
  {
   "cell_type": "code",
   "execution_count": 5,
   "id": "1bfd4f97",
   "metadata": {},
   "outputs": [],
   "source": [
    "seq2 = [16^(5^n) % 10^n for n in range(10)]"
   ]
  },
  {
   "cell_type": "code",
   "execution_count": 6,
   "id": "38ee8472",
   "metadata": {},
   "outputs": [
    {
     "data": {
      "text/plain": [
       "[0, 6, 76, 376, 9376, 9376, 109376, 7109376, 87109376, 787109376]"
      ]
     },
     "execution_count": 6,
     "metadata": {},
     "output_type": "execute_result"
    }
   ],
   "source": [
    "seq2"
   ]
  },
  {
   "cell_type": "code",
   "execution_count": 7,
   "id": "8ebc8ccc",
   "metadata": {},
   "outputs": [],
   "source": [
    "seq = seq1 + seq2 \n",
    "seq.sort()"
   ]
  },
  {
   "cell_type": "code",
   "execution_count": 11,
   "id": "c0f06586",
   "metadata": {},
   "outputs": [
    {
     "data": {
      "text/plain": [
       "{0,\n",
       " 5,\n",
       " 6,\n",
       " 25,\n",
       " 76,\n",
       " 376,\n",
       " 625,\n",
       " 9376,\n",
       " 90625,\n",
       " 109376,\n",
       " 890625,\n",
       " 2890625,\n",
       " 7109376,\n",
       " 12890625,\n",
       " 87109376,\n",
       " 212890625,\n",
       " 787109376}"
      ]
     },
     "execution_count": 11,
     "metadata": {},
     "output_type": "execute_result"
    }
   ],
   "source": [
    "set(seq)"
   ]
  },
  {
   "cell_type": "code",
   "execution_count": 12,
   "id": "37b3f569",
   "metadata": {},
   "outputs": [
    {
     "data": {
      "text/plain": [
       "{1}"
      ]
     },
     "execution_count": 12,
     "metadata": {},
     "output_type": "execute_result"
    }
   ],
   "source": [
    "set(answers) - set(seq)"
   ]
  },
  {
   "cell_type": "code",
   "execution_count": null,
   "id": "7dc72141",
   "metadata": {},
   "outputs": [],
   "source": []
  },
  {
   "cell_type": "code",
   "execution_count": 2,
   "id": "0a59bc25",
   "metadata": {},
   "outputs": [
    {
     "name": "stdout",
     "output_type": "stream",
     "text": [
      "1\n",
      "5\n",
      "2 * 3\n",
      "5^2\n",
      "2^2 * 19\n",
      "2^3 * 47\n",
      "5^4\n",
      "2^5 * 293\n",
      "5^5 * 29\n",
      "2^6 * 1709\n",
      "3 * 5^6 * 19\n",
      "5^7 * 37\n",
      "2^8 * 3 * 9257\n",
      "3 * 5^8 * 11\n",
      "2^8 * 19 * 17909\n",
      "5^9 * 109\n",
      "2^9 * 3 * 47 * 10903\n"
     ]
    }
   ],
   "source": [
    "for el in answers: \n",
    "    print(factor(el))"
   ]
  },
  {
   "cell_type": "code",
   "execution_count": null,
   "id": "d530b993",
   "metadata": {},
   "outputs": [],
   "source": [
    "n = 100000\n",
    "\n",
    "\n",
    "for x in range(n): \n",
    "    "
   ]
  }
 ],
 "metadata": {
  "kernelspec": {
   "display_name": "SageMath 9.7",
   "language": "sage",
   "name": "sagemath-dev"
  },
  "language_info": {
   "codemirror_mode": {
    "name": "ipython",
    "version": 3
   },
   "file_extension": ".py",
   "mimetype": "text/x-python",
   "name": "python",
   "nbconvert_exporter": "python",
   "pygments_lexer": "ipython3",
   "version": "3.8.10"
  }
 },
 "nbformat": 4,
 "nbformat_minor": 5
}
