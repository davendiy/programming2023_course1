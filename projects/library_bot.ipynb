{
 "cells": [
  {
   "cell_type": "markdown",
   "id": "f683f93f-e44b-4f0e-bceb-ae57e6c17571",
   "metadata": {},
   "source": [
    "# Бот бібліотекар \n",
    "\n",
    "Ваше завдання -- реалізувати telegram бота, який дозволить дивитись каталог бібліотеки механіко-математичного факультету, а також завантажувати відповідні книжки.  \n",
    "\n",
    "Бот повинен вміти наступні речі:\n",
    "- показати список всіх книжок\n",
    "- показати список книжок за категорією\n",
    "- завантажити обрану книжку і надіслати повідомленням\n",
    "\n",
    "Бота можна імплементувати, наприклад, за допомогою бібліотеки [pyTelegramBotAPI](https://pypi.org/project/pyTelegramBotAPI/).\n",
    "\n",
    "Каталог знаходиться за [посиланням](https://mechmat.knu.ua/golovna/fakul-tet/biblioteka/). Щоб могти стягувати з нього дані, ми будемо використовувати стандартну бібліотеку urlib: "
   ]
  },
  {
   "cell_type": "code",
   "execution_count": 9,
   "id": "87acd245-1437-4ac6-98d6-1931c45e4954",
   "metadata": {},
   "outputs": [
    {
     "data": {
      "text/plain": [
       "'<!DOCTYPE html>\\n<html lang=\"uk\">\\n<head>\\n<meta name=\"viewport\" content=\"width=device-width, user-scal'"
      ]
     },
     "execution_count": 9,
     "metadata": {},
     "output_type": "execute_result"
    }
   ],
   "source": [
    "import urllib.request\n",
    "\n",
    "with urllib.request.urlopen('https://mechmat.knu.ua/golovna/fakul-tet/biblioteka/') as response:\n",
    "   html = response.read()\n",
    "\n",
    "html = html.decode('utf-8')\n",
    "\n",
    "html[:100]"
   ]
  },
  {
   "cell_type": "markdown",
   "id": "3ab06ce6-7766-4bf2-ad22-42ba64c1fce0",
   "metadata": {},
   "source": [
    "Таким чином ми стягнули HTML код сторінки, на якому розміщений каталог бібліотеки мехмату. Це просто текст, у якому є поля з назвами книжок, а також посиланнями на відповідні PDF файли. "
   ]
  },
  {
   "cell_type": "code",
   "execution_count": 19,
   "id": "9cb3fdb9-2366-4441-959f-6930de7a0e12",
   "metadata": {},
   "outputs": [
    {
     "name": "stdout",
     "output_type": "stream",
     "text": [
      "<p><span style=\"font-family: 'book antiqua', palatino, serif; font-size: 20px;\">Запрошуємо викладачiв, спiвробiтникiв та студентiв механіко-математичного факультету поповнювати електронну бiблiотеку нашого факультету. Якщо Ви маєте книжки, які можуть знадобитися при навчаннi, то надiшлiть листа на адресу&nbsp;<a href=\"mailto:ch65@ukr.net\">ch65@ukr.net</a>. Прохання у листi вказувати курс та предмет, пiд час вивчення якого використовуються вiдповiднi матерiали. Усi матерiали доступнi лише з локальної мережi факультету.</span></p>\n",
      "\n",
      "<p><span style=\"font-family: 'book antiqua', palatino, serif; font-size: 20px;\"><span style=\"text-indent: 0em;\">Каталог бібліотеки механіко-математичного факультету</span><a style=\"text-indent: 0em;\" href=\"https://mechmat.knu.ua/wp-content/uploads/2018/02/Literatura.pdf\" target=\"_blank\" rel=\"noopener\"><img decoding=\"async\" class=\"alignnone size-full wp-image-666\" src=\"https://mechmat.knu.ua/wp-content/uploads/2018/02/pdf-e1519634704452.png\" alt=\"\" width=\"30\" height=\"30\"><br />\n",
      "\n",
      "</a><span style=\"text-indent: 0em;\">Ви можете завантажити каталог&nbsp;</span></span><a style=\"text-indent: 0em;\" href=\"https://mechmat.knu.ua/wp-content/uploads/2018/02/library.xls\" target=\"_blank\" rel=\"noopener\"><span style=\"font-family: 'book antiqua', palatino, serif; font-size: 20px;\"><img decoding=\"async\" class=\"alignnone size-full wp-image-835\" src=\"https://mechmat.knu.ua/wp-content/uploads/2018/02/xlsx-e1519772138150.png\" alt=\"\" width=\"30\" height=\"30\"></span></a></p>\n",
      "\n",
      "<p><span style=\"font-size: 24px; color: #b53030; font-family: 'book antiqua', palatino, serif;\">Методичні розробки, навчальні посібники кафедр</span><span class=\"collapseomatic &#8221;noarrow&#8221;\" id=\"id6648e387c09fe\"  tabindex=\"0\" title=\"\"    ></span><div id=\"target-id6648e387c09fe\" class=\"collapseomatic_content \">\n",
      "\n",
      "<p><span style=\"font-size: 24px; font-family: 'book antiqua', palatino, serif;\">Кафедра іноземних мов математичних факультетів</span><span class=\"collapseomatic \" id=\"id6648e387c107a\" rel=\"submenu-highlander\" tabindex=\"0\" title=\"\"    ></span><div id=\"target-id6648e387c107a\" class=\"collapseomatic_content \">\n",
      "\n",
      "<li><span style=\"font-family: 'book antiqua', palatino, serif; font-size: 20px;\">N.V.Solovey, I.V.Letunovskaya. ENGLISH FOR STUDENTS OF MATHEMATICS: <strong>навчальний посібник</strong>. – К., 2016. – 110с.&nbsp;<a href=\"https://mechmat.knu.ua/wp-content/uploads/2018/02/practykumno-keys1.pdf\" target=\"_blank\" rel=\"noopener\"><img loading=\"lazy\" decoding=\"async\" class=\"size-full wp-image-666 alignnone\" src=\"https://mechmat.knu.ua/wp-content/uploads/2018/02/pdf-e1519634704452.png\" alt=\"\" width=\"30\" height=\"30\"></a></span></li>\n",
      "\n",
      "<li><span style=\"font-family: 'book antiqua', palatino, serif; font-size: 20px;\">ENGLISH ACADEMIC WRITING : ПРОГРАМА НАВЧАЛЬНОЇ ДИСЦИПЛІНИ <strong>для аспірантів другого року навчання</strong> за освітньо-науковою програмою підготовки докторів філософії. – К., 2017. – 8с.&nbsp;<a href=\"https://mechmat.knu.ua/wp-content/uploads/2018/02/Program_PhD_ENGLISH.pdf\" target=\"_blank\" rel=\"noopener\"><img loading=\"lazy\" decoding=\"async\" class=\"size-full wp-image-666 alignnone\" src=\"https://mechmat.knu.ua/wp-content/uploads/2018/02/pdf-e1519634704452.png\" alt=\"\" width=\"30\" height=\"30\"></a></span></li>\n",
      "\n",
      "<li><span style=\"font-family: 'book antiqua', palatino, serif; font-size: 20px;\">Мазур С. М., Соловей Н. В., Андрійчук Т. В. English for students of mathematics.<a href=\"https://mechmat.knu.ua/wp-content/uploads/2021/04/english-for-students-of-math.pdf\" target=\"_blank\" rel=\"noopener\"><img loading=\"lazy\" decoding=\"async\" class=\"alignnone wp-image-666 size-full\" src=\"https://mechmat.knu.ua/wp-content/uploads/2018/02/pdf-e1519634704452.png\" alt=\"\" width=\"30\" height=\"30\"></a></span></li>\n",
      "\n",
      "<li><span style=\"font-family: 'book antiqua', palatino, serif; font-size: 20px;\">N.Solovey, I.Letunovskaya, English for Mathematics, Kyiv 2022, 92 p.</span>&nbsp;<a href=\"https://mechmat.knu.ua/wp-content/uploads/2022/05/textbook5year.pdf\" target=\"_blank\" rel=\"noopener\"><img loading=\"lazy\" decoding=\"async\" class=\"alignnone wp-image-666 size-full\" src=\"https://mechmat.knu.ua/wp-content/uploads/2018/02/pdf-e1519634704452.png\" alt=\"\" width=\"30\" height=\"30\"></a></li>\n",
      "\n",
      "<p><span style=\"font-size: 24px; font-family: 'book antiqua', palatino, serif;\">Кафедра педагогіки</span><span class=\"collapseomatic \" id=\"id6648e387c111c\" rel=\"submenu-highlander\" tabindex=\"0\" title=\"\"    ></span><div id=\"target-id6648e387c111c\" class=\"collapseomatic_content \">\n",
      "\n"
     ]
    }
   ],
   "source": [
    "i = 0 \n",
    "for row in html.splitlines(): \n",
    "    \n",
    "    if 'book antiqua' in row:\n",
    "        i += 1 \n",
    "        if i > 10: break\n",
    "        print(row)\n",
    "        print()"
   ]
  },
  {
   "cell_type": "markdown",
   "id": "a5024bb0-8aaf-46b0-a055-959b7115ae3f",
   "metadata": {},
   "source": [
    "Вам треба дістати з цього тексту назви всіх книжок, разом з посиланнями. Завантажити файл за посиланням можна наступним чином: "
   ]
  },
  {
   "cell_type": "code",
   "execution_count": 20,
   "id": "47ac1fb0-ca5a-4b48-bdd1-d06d973b29cb",
   "metadata": {},
   "outputs": [
    {
     "data": {
      "text/plain": [
       "('discrete_math.pdf', <http.client.HTTPMessage at 0x77a9675dda50>)"
      ]
     },
     "execution_count": 20,
     "metadata": {},
     "output_type": "execute_result"
    }
   ],
   "source": [
    "urllib.request.urlretrieve('https://mechmat.knu.ua/wp-content/uploads/2018/03/manual_DM.pdf', 'discrete_math.pdf')"
   ]
  },
  {
   "cell_type": "code",
   "execution_count": 21,
   "id": "378854c9-5e9c-47a9-b4d6-e7090a0a7b8f",
   "metadata": {},
   "outputs": [
    {
     "name": "stdout",
     "output_type": "stream",
     "text": [
      "discrete_math.pdf: PDF document, version 1.4, 104 page(s)\n"
     ]
    }
   ],
   "source": [
    "!file discrete_math.pdf"
   ]
  }
 ],
 "metadata": {
  "kernelspec": {
   "display_name": "Python [conda env:base] *",
   "language": "python",
   "name": "conda-base-py"
  },
  "language_info": {
   "codemirror_mode": {
    "name": "ipython",
    "version": 3
   },
   "file_extension": ".py",
   "mimetype": "text/x-python",
   "name": "python",
   "nbconvert_exporter": "python",
   "pygments_lexer": "ipython3",
   "version": "3.11.7"
  }
 },
 "nbformat": 4,
 "nbformat_minor": 5
}
