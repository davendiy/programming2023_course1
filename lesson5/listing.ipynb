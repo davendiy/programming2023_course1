{
 "cells": [
  {
   "cell_type": "markdown",
   "id": "d2093152",
   "metadata": {},
   "source": [
    "# 1. Факторіал \n",
    "\n",
    "$$n! = \\prod_{i = 1}^{n} i$$"
   ]
  },
  {
   "cell_type": "markdown",
   "id": "260d7b55",
   "metadata": {},
   "source": [
    "### Реалізація через цикл з перед-умовою"
   ]
  },
  {
   "cell_type": "code",
   "execution_count": 7,
   "id": "7d4bd428",
   "metadata": {},
   "outputs": [
    {
     "name": "stdout",
     "output_type": "stream",
     "text": [
      "k=1, res_factorial=1\n",
      "k=2, res_factorial=2\n",
      "k=3, res_factorial=6\n",
      "k=4, res_factorial=24\n",
      "k=5, res_factorial=120\n",
      "k=6, res_factorial=720\n",
      "k=7, res_factorial=5040\n",
      "k=8, res_factorial=40320\n",
      "k=9, res_factorial=362880\n",
      "k=10, res_factorial=3628800\n"
     ]
    }
   ],
   "source": [
    "n = 10 \n",
    "\n",
    "res_factorial = 1 \n",
    "k = 1 \n",
    "\n",
    "# цикл буде тривати доки виконується умова k < n + 1\n",
    "while k < n + 1: \n",
    "    \n",
    "    res_factorial = res_factorial * k\n",
    "    print(f'{k=}, {res_factorial=}')\n",
    "    k = k + 1    \n"
   ]
  },
  {
   "cell_type": "markdown",
   "id": "96f21029",
   "metadata": {},
   "source": [
    "### Реалізація через цикл з після-умовою "
   ]
  },
  {
   "cell_type": "code",
   "execution_count": 9,
   "id": "0d92adfd",
   "metadata": {},
   "outputs": [
    {
     "name": "stdout",
     "output_type": "stream",
     "text": [
      "k=1, res_factorial=1\n",
      "k=2, res_factorial=2\n",
      "k=3, res_factorial=6\n",
      "k=4, res_factorial=24\n",
      "k=5, res_factorial=120\n",
      "k=6, res_factorial=720\n",
      "k=7, res_factorial=5040\n",
      "k=8, res_factorial=40320\n",
      "k=9, res_factorial=362880\n",
      "k=10, res_factorial=3628800\n"
     ]
    }
   ],
   "source": [
    "n = 10 \n",
    "\n",
    "res_factorial = 1 \n",
    "k = 1\n",
    "\n",
    "# умову перевіряємо в кінці тіла циклу через if \n",
    "while True:    \n",
    "    res_factorial = res_factorial * k\n",
    "    print(f'{k=}, {res_factorial=}')\n",
    "    k = k + 1    \n",
    "    \n",
    "    if k > n: \n",
    "        break     # зупинити цикл і вийти з нього "
   ]
  },
  {
   "cell_type": "markdown",
   "id": "7d21d8f7",
   "metadata": {},
   "source": [
    "### Реалізація через цикл for "
   ]
  },
  {
   "cell_type": "code",
   "execution_count": 8,
   "id": "9094b517",
   "metadata": {},
   "outputs": [
    {
     "name": "stdout",
     "output_type": "stream",
     "text": [
      "k=1, res_factorial=1\n",
      "k=2, res_factorial=2\n",
      "k=3, res_factorial=6\n",
      "k=4, res_factorial=24\n",
      "k=5, res_factorial=120\n",
      "k=6, res_factorial=720\n",
      "k=7, res_factorial=5040\n",
      "k=8, res_factorial=40320\n",
      "k=9, res_factorial=362880\n",
      "k=10, res_factorial=3628800\n"
     ]
    },
    {
     "data": {
      "text/plain": [
       "3628800"
      ]
     },
     "execution_count": 8,
     "metadata": {},
     "output_type": "execute_result"
    }
   ],
   "source": [
    "n = 10\n",
    "\n",
    "res_factorial = 1 \n",
    "for k in range(1, n+1):\n",
    "    \n",
    "    res_factorial = res_factorial * k\n",
    "    \n",
    "    print(f'{k=}, {res_factorial=}')\n",
    "    \n",
    "res_factorial"
   ]
  },
  {
   "cell_type": "markdown",
   "id": "4e51fc8a",
   "metadata": {},
   "source": [
    "# Ряди Тейлора \n",
    "\n",
    "\n",
    "Грубо кажучи, ряд Тейлора -- це метод наближеного обчислення деякої функції $f(x)$ через степені $x$. \n",
    "\n",
    "Приклад рядів Тейлора: \n",
    "\n",
    "$$e^x = \\sum_{n=0}^{\\infty} \\frac{x^n}{n!} = 1 + x + \\frac{x^2}{2!} + \\frac{x^3}{3!} + \\ldots$$\n",
    "$$\\sin(x) = \\sum_{n=0}^{\\infty} \\frac{(-1)^n x^{2n+1}}{(2n+1)!} = x - \\frac{x^3}{3!} + \\frac{x^5}{5!} - \\ldots$$\n",
    "$$\\cos(x) = \\sum_{n=0}^{\\infty} \\frac{(-1)^n x^{2n}}{(2n)!} = 1 - \\frac{x^2}{2!} + \\frac{x^4}{4!} - \\ldots$$\n",
    "$$\\frac{1}{1-x} = \\sum_{n=0}^{\\infty} x^n = 1 + x + x^2 + x^3 + \\ldots$$\n",
    "\n",
    "Як видно з прикладу, у рядах Тейлора (насправді Тейлора-Маклорена) часто виникає факторіал, який ми вже вміємо рахувати.\n",
    "\n",
    "\n",
    "\n",
    "# 2. експонента $f(x) = e^x$\n",
    "\n",
    "$$e^x = \\sum_{n=0}^{\\infty} \\frac{x^n}{n!} = 1 + x + \\frac{x^2}{2!} + \\frac{x^3}{3!} + \\ldots$$\n",
    "\n"
   ]
  },
  {
   "cell_type": "code",
   "execution_count": 2,
   "id": "8714611b",
   "metadata": {},
   "outputs": [
    {
     "data": {
      "text/plain": [
       "20.085536923187668"
      ]
     },
     "execution_count": 2,
     "metadata": {},
     "output_type": "execute_result"
    }
   ],
   "source": [
    "import math \n",
    "\n",
    "math.exp(3)"
   ]
  },
  {
   "cell_type": "markdown",
   "id": "987baf93",
   "metadata": {},
   "source": [
    "### використовуючи реалізацію факторіала з math "
   ]
  },
  {
   "cell_type": "code",
   "execution_count": 3,
   "id": "df4b41fc",
   "metadata": {},
   "outputs": [
    {
     "data": {
      "text/plain": [
       "20.085536921517665"
      ]
     },
     "execution_count": 3,
     "metadata": {},
     "output_type": "execute_result"
    }
   ],
   "source": [
    "# x = float(input())\n",
    "x = 3\n",
    "\n",
    "res = 0\n",
    "\n",
    "for n in range(0, 20): \n",
    "    res = res + (x ** n) / math.factorial(n)\n",
    "\n",
    "res"
   ]
  },
  {
   "cell_type": "markdown",
   "id": "ee2cf930",
   "metadata": {},
   "source": [
    "### використовуючи свій факторіал"
   ]
  },
  {
   "cell_type": "code",
   "execution_count": 4,
   "id": "a60b7da4",
   "metadata": {},
   "outputs": [
    {
     "name": "stdout",
     "output_type": "stream",
     "text": [
      "factorial=1, res=1.0\n",
      "factorial=1, res=4.0\n",
      "factorial=2, res=8.5\n",
      "factorial=6, res=13.0\n",
      "factorial=24, res=16.375\n",
      "factorial=120, res=18.4\n",
      "factorial=720, res=19.412499999999998\n",
      "factorial=5040, res=19.846428571428568\n",
      "factorial=40320, res=20.009151785714284\n",
      "factorial=362880, res=20.063392857142855\n",
      "factorial=3628800, res=20.079665178571425\n",
      "factorial=39916800, res=20.08410308441558\n",
      "factorial=479001600, res=20.08521256087662\n",
      "factorial=6227020800, res=20.08546859390609\n",
      "factorial=87178291200, res=20.08552345812669\n",
      "factorial=1307674368000, res=20.08553443097081\n",
      "factorial=20922789888000, res=20.085536488379084\n",
      "factorial=355687428096000, res=20.08553685145113\n",
      "factorial=6402373705728000, res=20.08553691196314\n",
      "factorial=121645100408832000, res=20.085536921517665\n",
      "factorial=2432902008176640000, res=20.085536922950844\n",
      "factorial=51090942171709440000, res=20.085536923155583\n",
      "factorial=1124000727777607680000, res=20.085536923183504\n",
      "factorial=25852016738884976640000, res=20.085536923187146\n",
      "factorial=620448401733239439360000, res=20.0855369231876\n",
      "factorial=15511210043330985984000000, res=20.085536923187654\n",
      "factorial=403291461126605635584000000, res=20.08553692318766\n",
      "factorial=10888869450418352160768000000, res=20.08553692318766\n",
      "factorial=304888344611713860501504000000, res=20.08553692318766\n",
      "factorial=8841761993739701954543616000000, res=20.08553692318766\n",
      "========================================\n",
      "our implementation: 20.08553692318766\n",
      "math                20.085536923187668\n"
     ]
    }
   ],
   "source": [
    "x = 3\n",
    "\n",
    "res = 0\n",
    "\n",
    "for n in range(0, 30): \n",
    "    \n",
    "    factorial = 1 \n",
    "    for k in range(1, n+1): \n",
    "        factorial *= k \n",
    "        \n",
    "    res = res + (x ** n) / factorial\n",
    "    \n",
    "    print(f'{factorial=}, {res=}')\n",
    "    \n",
    "print('========================================')\n",
    "print(f\"our implementation: {res}\")\n",
    "print(f\"math                {math.exp(x)}\")"
   ]
  },
  {
   "cell_type": "markdown",
   "id": "ab5be384",
   "metadata": {},
   "source": [
    "# 3. Синус $f(x) = sin(x)$\n",
    "\n",
    "$$\\sin(x) = \\sum_{n=0}^{\\infty} \\frac{(-1)^n x^{2n+1}}{(2n+1)!} = x - \\frac{x^3}{3!} + \\frac{x^5}{5!} - \\ldots$$\n"
   ]
  },
  {
   "cell_type": "code",
   "execution_count": 34,
   "id": "d0ee300d",
   "metadata": {},
   "outputs": [
    {
     "name": "stdout",
     "output_type": "stream",
     "text": [
      "our implementation: 0.7071064695751781\n",
      "math                0.7071067811865475\n"
     ]
    }
   ],
   "source": [
    "x = math.pi / 4\n",
    "\n",
    "res = 0\n",
    "\n",
    "for n in range(1, 20): \n",
    "    \n",
    "    factorial = 1 \n",
    "    for k in range(1, (2*n)): \n",
    "        factorial *= k \n",
    "        \n",
    "    res = res + (-1)**(n - 1) * x ** (2*n - 1) / factorial\n",
    "\n",
    "print(f\"our implementation: {res}\")\n",
    "print(f\"math                {math.sin(x)}\")"
   ]
  },
  {
   "cell_type": "markdown",
   "id": "7c99c22f",
   "metadata": {},
   "source": [
    "### Приклад подвійного циклу "
   ]
  },
  {
   "cell_type": "code",
   "execution_count": 41,
   "id": "86970752",
   "metadata": {},
   "outputs": [
    {
     "name": "stdout",
     "output_type": "stream",
     "text": [
      "n=1, i=0\n",
      "n=2, i=0\n",
      "n=2, i=1\n",
      "n=3, i=0\n",
      "n=3, i=1\n",
      "n=3, i=2\n",
      "n=4, i=0\n",
      "n=4, i=1\n",
      "n=4, i=2\n",
      "n=4, i=3\n",
      "n=5, i=0\n",
      "n=5, i=1\n",
      "n=5, i=2\n",
      "n=5, i=3\n",
      "n=5, i=4\n",
      "n=6, i=0\n",
      "n=6, i=1\n",
      "n=6, i=2\n",
      "n=6, i=3\n",
      "n=6, i=4\n",
      "n=6, i=5\n",
      "n=7, i=0\n",
      "n=7, i=1\n",
      "n=7, i=2\n",
      "n=7, i=3\n",
      "n=7, i=4\n",
      "n=7, i=5\n",
      "n=7, i=6\n",
      "n=8, i=0\n",
      "n=8, i=1\n",
      "n=8, i=2\n",
      "n=8, i=3\n",
      "n=8, i=4\n",
      "n=8, i=5\n",
      "n=8, i=6\n",
      "n=8, i=7\n",
      "n=9, i=0\n",
      "n=9, i=1\n",
      "n=9, i=2\n",
      "n=9, i=3\n",
      "n=9, i=4\n",
      "n=9, i=5\n",
      "n=9, i=6\n",
      "n=9, i=7\n",
      "n=9, i=8\n",
      "n=10, i=0\n",
      "n=10, i=1\n",
      "n=10, i=2\n",
      "n=10, i=3\n",
      "n=10, i=4\n",
      "n=10, i=5\n",
      "n=10, i=6\n",
      "n=10, i=7\n",
      "n=10, i=8\n",
      "n=10, i=9\n",
      "n=11, i=0\n",
      "n=11, i=1\n",
      "n=11, i=2\n",
      "n=11, i=3\n",
      "n=11, i=4\n",
      "n=11, i=5\n",
      "n=11, i=6\n",
      "n=11, i=7\n",
      "n=11, i=8\n",
      "n=11, i=9\n",
      "n=11, i=10\n",
      "n=12, i=0\n",
      "n=12, i=1\n",
      "n=12, i=2\n",
      "n=12, i=3\n",
      "n=12, i=4\n",
      "n=12, i=5\n",
      "n=12, i=6\n",
      "n=12, i=7\n",
      "n=12, i=8\n",
      "n=12, i=9\n",
      "n=12, i=10\n",
      "n=12, i=11\n",
      "n=13, i=0\n",
      "n=13, i=1\n",
      "n=13, i=2\n",
      "n=13, i=3\n",
      "n=13, i=4\n",
      "n=13, i=5\n",
      "n=13, i=6\n",
      "n=13, i=7\n",
      "n=13, i=8\n",
      "n=13, i=9\n",
      "n=13, i=10\n",
      "n=13, i=11\n",
      "n=13, i=12\n",
      "n=14, i=0\n",
      "n=14, i=1\n",
      "n=14, i=2\n",
      "n=14, i=3\n",
      "n=14, i=4\n",
      "n=14, i=5\n",
      "n=14, i=6\n",
      "n=14, i=7\n",
      "n=14, i=8\n",
      "n=14, i=9\n",
      "n=14, i=10\n",
      "n=14, i=11\n",
      "n=14, i=12\n",
      "n=14, i=13\n",
      "n=15, i=0\n",
      "n=15, i=1\n",
      "n=15, i=2\n",
      "n=15, i=3\n",
      "n=15, i=4\n",
      "n=15, i=5\n",
      "n=15, i=6\n",
      "n=15, i=7\n",
      "n=15, i=8\n",
      "n=15, i=9\n",
      "n=15, i=10\n",
      "n=15, i=11\n",
      "n=15, i=12\n",
      "n=15, i=13\n",
      "n=15, i=14\n",
      "n=16, i=0\n",
      "n=16, i=1\n",
      "n=16, i=2\n",
      "n=16, i=3\n",
      "n=16, i=4\n",
      "n=16, i=5\n",
      "n=16, i=6\n",
      "n=16, i=7\n",
      "n=16, i=8\n",
      "n=16, i=9\n",
      "n=16, i=10\n",
      "n=16, i=11\n",
      "n=16, i=12\n",
      "n=16, i=13\n",
      "n=16, i=14\n",
      "n=16, i=15\n",
      "n=17, i=0\n",
      "n=17, i=1\n",
      "n=17, i=2\n",
      "n=17, i=3\n",
      "n=17, i=4\n",
      "n=17, i=5\n",
      "n=17, i=6\n",
      "n=17, i=7\n",
      "n=17, i=8\n",
      "n=17, i=9\n",
      "n=17, i=10\n",
      "n=17, i=11\n",
      "n=17, i=12\n",
      "n=17, i=13\n",
      "n=17, i=14\n",
      "n=17, i=15\n",
      "n=17, i=16\n",
      "n=18, i=0\n",
      "n=18, i=1\n",
      "n=18, i=2\n",
      "n=18, i=3\n",
      "n=18, i=4\n",
      "n=18, i=5\n",
      "n=18, i=6\n",
      "n=18, i=7\n",
      "n=18, i=8\n",
      "n=18, i=9\n",
      "n=18, i=10\n",
      "n=18, i=11\n",
      "n=18, i=12\n",
      "n=18, i=13\n",
      "n=18, i=14\n",
      "n=18, i=15\n",
      "n=18, i=16\n",
      "n=18, i=17\n",
      "n=19, i=0\n",
      "n=19, i=1\n",
      "n=19, i=2\n",
      "n=19, i=3\n",
      "n=19, i=4\n",
      "n=19, i=5\n",
      "n=19, i=6\n",
      "n=19, i=7\n",
      "n=19, i=8\n",
      "n=19, i=9\n",
      "n=19, i=10\n",
      "n=19, i=11\n",
      "n=19, i=12\n",
      "n=19, i=13\n",
      "n=19, i=14\n",
      "n=19, i=15\n",
      "n=19, i=16\n",
      "n=19, i=17\n",
      "n=19, i=18\n"
     ]
    },
    {
     "data": {
      "text/plain": [
       "190"
      ]
     },
     "execution_count": 41,
     "metadata": {},
     "output_type": "execute_result"
    }
   ],
   "source": [
    "count = 0\n",
    "for n in range(20): \n",
    "    for i in range(n): \n",
    "        print(f\"{n=}, {i=}\")\n",
    "        count += 1\n",
    "        \n",
    "count"
   ]
  },
  {
   "cell_type": "markdown",
   "id": "51cd1a6a",
   "metadata": {},
   "source": [
    "## Оптимізація обрахунку синуса \n",
    "### Для початку оптимізуємо факторіал"
   ]
  },
  {
   "cell_type": "code",
   "execution_count": 7,
   "id": "6a4f5ef3",
   "metadata": {},
   "outputs": [
    {
     "name": "stdout",
     "output_type": "stream",
     "text": [
      "factorial=1, res=0\n",
      "factorial=6, res=0.7853981633974483\n",
      "factorial=120, res=0.7046526512091675\n",
      "factorial=5040, res=0.7071430457793603\n",
      "========================================\n",
      "our implementation: 0.7071064695751781\n",
      "math                0.7071067811865475\n"
     ]
    }
   ],
   "source": [
    "x = math.pi / 4\n",
    "\n",
    "res = 0\n",
    "\n",
    "factorial = 1\n",
    "\n",
    "for n in range(1, 5): \n",
    "    \n",
    "    # замість того, щоб заново рахувати факторіал, використовуємо \n",
    "    # вже обчислене значення\n",
    "    if n > 1:\n",
    "        factorial = factorial * (2*n-1) * (2*n - 2)  \n",
    "    \n",
    "    print(f\"{factorial=}, {res=}\")\n",
    "    \n",
    "    res = res + (-1)**(n - 1) * x ** (2*n - 1) / factorial\n",
    "\n",
    "    \n",
    "print('========================================')\n",
    "print(f\"our implementation: {res}\")\n",
    "print(f\"math                {math.sin(x)}\")\n"
   ]
  },
  {
   "cell_type": "markdown",
   "id": "11989b7c",
   "metadata": {},
   "source": [
    "### Тепер оптимізуємо обрахунок кожного доданку\n",
    "\n",
    "$$sin(x) = \\sum_{n = 1}^{\\infty} f(n)$$\n",
    "\n",
    "Розпишемо кожен наступний доданок через попередній\n",
    "$$f(n+1) = f(n)  \\frac{-x^2}{2n (2n+1)}$$\n",
    "\n",
    "$$f(1) = x$$"
   ]
  },
  {
   "cell_type": "code",
   "execution_count": 6,
   "id": "6c8c08f5",
   "metadata": {},
   "outputs": [
    {
     "name": "stdout",
     "output_type": "stream",
     "text": [
      "========================================\n",
      "our implementation: 1.0000000000000002\n",
      "math                1.0\n"
     ]
    }
   ],
   "source": [
    "x = math.pi / 2\n",
    "\n",
    "res_sum = x   # sum f(n)\n",
    "add = x       # f(n)\n",
    "\n",
    "for n in range(1, 20): \n",
    "    # f(n + 1) = f(n) * ...\n",
    "    add = add * (-(x**2)) / (2 * n * (2 * n + 1))\n",
    "    \n",
    "    # sum(n + 1) = sum(n) + f(n + 1)\n",
    "    res_sum = res_sum + add\n",
    "    \n",
    "print('========================================')\n",
    "print(f\"our implementation: {res_sum}\")\n",
    "print(f\"math                {math.sin(x)}\")\n"
   ]
  },
  {
   "cell_type": "markdown",
   "id": "c6250f24",
   "metadata": {},
   "source": [
    "# 4. Наближений обрахунок з деякою точністю\n",
    "\n",
    "Ряди Тейлора мають нескінченну суму, проте в коді ми використовували просто якесь велике число. Насправді треба додавати доти, доки наше результуюче число не буде точним до деякого знаку після коми. Реалізувати це можна, порівнюючи наступний доданок з попереднім. Якщо наступний доданок змінюється менше, ніж деяке `err = 10^(-7)`, то ми зупиняємо цикл."
   ]
  },
  {
   "cell_type": "code",
   "execution_count": 5,
   "id": "f3f7539b",
   "metadata": {},
   "outputs": [
    {
     "name": "stdout",
     "output_type": "stream",
     "text": [
      "========================================\n",
      "our implementation: 0.14112001741324257\n",
      "math                0.1411200080598672\n"
     ]
    }
   ],
   "source": [
    "err = 1e-5   # 10^(-5)\n",
    "\n",
    "x = 3\n",
    "\n",
    "n = 1\n",
    "res_sum = x   # sum f(n)\n",
    "add = x       # f(n)\n",
    "\n",
    "while True: \n",
    "    add = add * (-(x**2)) / (2 * n * (2 * n + 1))\n",
    "    next_res_sum = res_sum + add\n",
    "\n",
    "    if abs(next_res_sum - res_sum) < err: \n",
    "        res_sum = next_res_sum\n",
    "        break\n",
    "    \n",
    "    res_sum = next_res_sum\n",
    "    \n",
    "    n += 1\n",
    "    \n",
    "print('========================================')\n",
    "print(f\"our implementation: {res_sum}\")\n",
    "print(f\"math                {math.sin(x)}\")"
   ]
  },
  {
   "cell_type": "markdown",
   "id": "5680509a",
   "metadata": {},
   "source": [
    "# 5. Fibbonacci sequence\n",
    "\n",
    "\n",
    "Це найпростіший приклад рекурентної послідовності і найбільш класичний приклад на цикли. Рекурентна послідовність -- це така, в якій кожен наступний член залежить від попередніх. В послідовності Фібоначчі кожен наступний член є сумою двох попередніх.\n",
    "\n",
    "$$f(n) = f(n-1) + f(n-2),  \\quad f(1) = 1, f(0) = 1$$"
   ]
  },
  {
   "cell_type": "code",
   "execution_count": 69,
   "id": "0fec07ea",
   "metadata": {},
   "outputs": [
    {
     "name": "stdout",
     "output_type": "stream",
     "text": [
      "55 "
     ]
    },
    {
     "data": {
      "text/plain": [
       "55"
      ]
     },
     "execution_count": 69,
     "metadata": {},
     "output_type": "execute_result"
    }
   ],
   "source": [
    "n = 10\n",
    "\n",
    "res = 1\n",
    "f_n1 = 1   # f(n - 1)\n",
    "f_n2 = 1   # f(n - 2)\n",
    "\n",
    "if n > 2: \n",
    "    for i in range(2, n): \n",
    "        \n",
    "        # тро\n",
    "        # f(n - 1) := f(n - 1) + f(n - 2)\n",
    "        # f(n - 2) := f(n - 1)\n",
    "        f_n1, f_n2 = f_n1 + f_n2, f_n1\n",
    "        res = f_n1\n",
    "\n",
    "print(res, end=' ')\n",
    "res"
   ]
  },
  {
   "cell_type": "code",
   "execution_count": 79,
   "id": "3cbaee85",
   "metadata": {},
   "outputs": [
    {
     "data": {
      "text/plain": [
       "2"
      ]
     },
     "execution_count": 79,
     "metadata": {},
     "output_type": "execute_result"
    }
   ],
   "source": [
    "x = -20823486712386\n",
    "\n",
    "numbers_amount = int(math.log10(abs(x)))\n",
    "first_number = abs(x) // 10 ** numbers_amount\n",
    "first_number"
   ]
  }
 ],
 "metadata": {
  "kernelspec": {
   "display_name": "Python [conda env:root] *",
   "language": "python",
   "name": "conda-root-py"
  },
  "language_info": {
   "codemirror_mode": {
    "name": "ipython",
    "version": 3
   },
   "file_extension": ".py",
   "mimetype": "text/x-python",
   "name": "python",
   "nbconvert_exporter": "python",
   "pygments_lexer": "ipython3",
   "version": "3.9.12"
  }
 },
 "nbformat": 4,
 "nbformat_minor": 5
}
