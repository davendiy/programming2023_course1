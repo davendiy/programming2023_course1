{
 "cells": [
  {
   "cell_type": "code",
   "execution_count": 1,
<<<<<<< HEAD
   "id": "69b26544",
=======
   "id": "744650a7",
>>>>>>> 49310e63e545ea03d1119c50c45f8dcb404d95ee
   "metadata": {},
   "outputs": [
    {
     "data": {
      "text/plain": [
       "100000000000000000000000000000000000000000000000000000000000000000000000000000000000000000000000000000"
      ]
     },
     "execution_count": 1,
     "metadata": {},
     "output_type": "execute_result"
    }
   ],
   "source": [
    "x = int('10' + '0' * 100)\n",
    "x"
   ]
  },
  {
   "cell_type": "code",
   "execution_count": 3,
<<<<<<< HEAD
   "id": "27540c36",
=======
   "id": "f05ff04d",
>>>>>>> 49310e63e545ea03d1119c50c45f8dcb404d95ee
   "metadata": {},
   "outputs": [
    {
     "data": {
      "text/plain": [
       "100000000000000000000000000000000000000000000000000000000000000000000000000000000000000000000000000000000000000000000000000000000000000000000000000000000000000000000000000000000000000000000000000000000000000000000000000000000000000000000000000000000000000000000000000000000000000000000000000000000000000000000000000000000000000000000000000000000000000000000000000000000000000000000000000000000000000000000000000000000000000000000000000000000000000000000000000000000000000000000000000000000000000000000000000000000000000000000000000000000000000000000000000000000000000000000000000000000000000000000000000000000000000000000000000000000000000000000000000000000000000000000000000000000000000000000000000000000000000000000000000000000000000000000000000000000000000000000000000000000000000000000000000000000000000000000000000000000000000000000000000000000000000000000000000000000000000000000000000000000000000000000000000000000000000000000000000000000000000000000000000000000000000000000000000000000000000000000000000"
      ]
     },
     "execution_count": 3,
     "metadata": {},
     "output_type": "execute_result"
    }
   ],
   "source": [
    "x ** 10"
   ]
  },
  {
   "cell_type": "code",
   "execution_count": 6,
<<<<<<< HEAD
   "id": "49d415b0",
=======
   "id": "efd5ceee",
>>>>>>> 49310e63e545ea03d1119c50c45f8dcb404d95ee
   "metadata": {},
   "outputs": [
    {
     "ename": "OverflowError",
     "evalue": "int too large to convert to float",
     "output_type": "error",
     "traceback": [
      "\u001b[0;31m---------------------------------------------------------------------------\u001b[0m",
      "\u001b[0;31mOverflowError\u001b[0m                             Traceback (most recent call last)",
      "Input \u001b[0;32mIn [6]\u001b[0m, in \u001b[0;36m<cell line: 3>\u001b[0;34m()\u001b[0m\n\u001b[1;32m      1\u001b[0m \u001b[38;5;28;01mimport\u001b[39;00m \u001b[38;5;21;01mmath\u001b[39;00m \n\u001b[0;32m----> 3\u001b[0m math\u001b[38;5;241m.\u001b[39mlog10(\u001b[43mx\u001b[49m\u001b[43m \u001b[49m\u001b[38;5;241;43m*\u001b[39;49m\u001b[38;5;241;43m*\u001b[39;49m\u001b[43m \u001b[49m\u001b[38;5;241;43m10\u001b[39;49m\u001b[43m \u001b[49m\u001b[38;5;241;43m*\u001b[39;49m\u001b[43m \u001b[49m\u001b[38;5;241;43m1.174617241\u001b[39;49m)\n",
      "\u001b[0;31mOverflowError\u001b[0m: int too large to convert to float"
     ]
    }
   ],
   "source": [
    "import math \n",
    "\n",
    "math.log10(x ** 10 * 1.174617241)"
   ]
  },
  {
   "cell_type": "code",
   "execution_count": 9,
<<<<<<< HEAD
   "id": "d73a0c74",
=======
   "id": "386b312d",
>>>>>>> 49310e63e545ea03d1119c50c45f8dcb404d95ee
   "metadata": {},
   "outputs": [
    {
     "ename": "OverflowError",
     "evalue": "int too large to convert to float",
     "output_type": "error",
     "traceback": [
      "\u001b[0;31m---------------------------------------------------------------------------\u001b[0m",
      "\u001b[0;31mOverflowError\u001b[0m                             Traceback (most recent call last)",
      "Input \u001b[0;32mIn [9]\u001b[0m, in \u001b[0;36m<cell line: 1>\u001b[0;34m()\u001b[0m\n\u001b[0;32m----> 1\u001b[0m \u001b[38;5;28;43mfloat\u001b[39;49m\u001b[43m(\u001b[49m\u001b[43mx\u001b[49m\u001b[43m \u001b[49m\u001b[38;5;241;43m*\u001b[39;49m\u001b[38;5;241;43m*\u001b[39;49m\u001b[43m \u001b[49m\u001b[38;5;241;43m10\u001b[39;49m\u001b[43m)\u001b[49m\n",
      "\u001b[0;31mOverflowError\u001b[0m: int too large to convert to float"
     ]
    }
   ],
   "source": [
    "float(x ** 10)"
   ]
  },
  {
   "cell_type": "code",
   "execution_count": 11,
<<<<<<< HEAD
   "id": "3ec99c21",
=======
   "id": "17c78c66",
>>>>>>> 49310e63e545ea03d1119c50c45f8dcb404d95ee
   "metadata": {},
   "outputs": [
    {
     "data": {
      "text/plain": [
       "340282366920938463463374607431768211456"
      ]
     },
     "execution_count": 11,
     "metadata": {},
     "output_type": "execute_result"
    }
   ],
   "source": [
    "2 ** 128"
   ]
  },
  {
   "cell_type": "markdown",
<<<<<<< HEAD
   "id": "19fd0f6f",
=======
   "id": "63f09db3",
>>>>>>> 49310e63e545ea03d1119c50c45f8dcb404d95ee
   "metadata": {},
   "source": [
    "# Домашня задача на факторіал \n",
    "\n",
    "$$\\log_{10} (n !) = \\sum_{i=1}^{n} \\log_{10} i$$"
   ]
  },
  {
   "cell_type": "code",
   "execution_count": 19,
<<<<<<< HEAD
   "id": "53006cef",
=======
   "id": "e199fe0c",
>>>>>>> 49310e63e545ea03d1119c50c45f8dcb404d95ee
   "metadata": {},
   "outputs": [
    {
     "name": "stdout",
     "output_type": "stream",
     "text": [
      "123123712837\n"
     ]
    },
    {
     "data": {
      "text/plain": [
       "12"
      ]
     },
     "execution_count": 19,
     "metadata": {},
     "output_type": "execute_result"
    }
   ],
   "source": [
    "n = int(input())\n",
    "\n",
    "math.ceil(math.log10(n))"
   ]
  },
  {
   "cell_type": "code",
   "execution_count": 20,
<<<<<<< HEAD
   "id": "1470d1d9",
=======
   "id": "b7c2061e",
>>>>>>> 49310e63e545ea03d1119c50c45f8dcb404d95ee
   "metadata": {},
   "outputs": [
    {
     "data": {
      "text/plain": [
       "12"
      ]
     },
     "execution_count": 20,
     "metadata": {},
     "output_type": "execute_result"
    }
   ],
   "source": [
    "len(str(n))"
   ]
  },
  {
   "cell_type": "code",
   "execution_count": 23,
<<<<<<< HEAD
   "id": "3c0bf908",
=======
   "id": "427894c3",
>>>>>>> 49310e63e545ea03d1119c50c45f8dcb404d95ee
   "metadata": {},
   "outputs": [
    {
     "name": "stdout",
     "output_type": "stream",
     "text": [
      "7\n"
     ]
    },
    {
     "data": {
      "text/plain": [
       "4"
      ]
     },
     "execution_count": 23,
     "metadata": {},
     "output_type": "execute_result"
    }
   ],
   "source": [
    "n = int(input())\n",
    "\n",
    "res = 0 \n",
    "for i in range(1, n+1): \n",
    "    res += math.log10(i)\n",
    "\n",
    "int(res) + 1"
   ]
  },
  {
   "cell_type": "code",
   "execution_count": null,
<<<<<<< HEAD
   "id": "8ddb916c",
=======
   "id": "401fb862",
>>>>>>> 49310e63e545ea03d1119c50c45f8dcb404d95ee
   "metadata": {},
   "outputs": [],
   "source": [
    "n = input()\n",
    "length = len(n)"
   ]
  },
  {
   "cell_type": "markdown",
<<<<<<< HEAD
   "id": "100054c0",
=======
   "id": "c989202e",
>>>>>>> 49310e63e545ea03d1119c50c45f8dcb404d95ee
   "metadata": {},
   "source": [
    "# Списки"
   ]
  },
  {
   "cell_type": "code",
   "execution_count": 27,
<<<<<<< HEAD
   "id": "1e6a6155",
=======
   "id": "9f5faf67",
>>>>>>> 49310e63e545ea03d1119c50c45f8dcb404d95ee
   "metadata": {},
   "outputs": [
    {
     "data": {
      "text/plain": [
       "[1, 2, 3, 4, 5, 6]"
      ]
     },
     "execution_count": 27,
     "metadata": {},
     "output_type": "execute_result"
    }
   ],
   "source": [
    "a = [1, 2, 3, 4, 5, 6]\n",
    "a"
   ]
  },
  {
   "cell_type": "code",
   "execution_count": 29,
<<<<<<< HEAD
   "id": "d5033aa2",
=======
   "id": "ccdaed0e",
>>>>>>> 49310e63e545ea03d1119c50c45f8dcb404d95ee
   "metadata": {},
   "outputs": [
    {
     "data": {
      "text/plain": [
       "[1, 3, 'sfljks']"
      ]
     },
     "execution_count": 29,
     "metadata": {},
     "output_type": "execute_result"
    }
   ],
   "source": [
    "b = [1, 3, 'sfljks']\n",
    "b"
   ]
  },
  {
   "cell_type": "code",
   "execution_count": 30,
<<<<<<< HEAD
   "id": "00191143",
=======
   "id": "dd5e9d80",
>>>>>>> 49310e63e545ea03d1119c50c45f8dcb404d95ee
   "metadata": {},
   "outputs": [
    {
     "data": {
      "text/plain": [
       "[1, 2, 3, 4, 5, 6, [1, 3, 'sfljks']]"
      ]
     },
     "execution_count": 30,
     "metadata": {},
     "output_type": "execute_result"
    }
   ],
   "source": [
    "a.append(b)\n",
    "a"
   ]
  },
  {
   "cell_type": "code",
   "execution_count": 31,
<<<<<<< HEAD
   "id": "2b17c163",
=======
   "id": "59386b17",
>>>>>>> 49310e63e545ea03d1119c50c45f8dcb404d95ee
   "metadata": {},
   "outputs": [
    {
     "data": {
      "text/plain": [
       "[1, 2, 3, 4, 5, 6, [1, 3, 'sfljks'], [1, 3, 'sfljks']]"
      ]
     },
     "execution_count": 31,
     "metadata": {},
     "output_type": "execute_result"
    }
   ],
   "source": [
    "a.append(b)\n",
    "a"
   ]
  },
  {
   "cell_type": "code",
   "execution_count": 32,
<<<<<<< HEAD
   "id": "1bdd9125",
=======
   "id": "ec6e2012",
>>>>>>> 49310e63e545ea03d1119c50c45f8dcb404d95ee
   "metadata": {},
   "outputs": [
    {
     "data": {
      "text/plain": [
       "[1, 2, 3, 4, 5, 6, [1, 3, 'sfljks', 3], [1, 3, 'sfljks', 3]]"
      ]
     },
     "execution_count": 32,
     "metadata": {},
     "output_type": "execute_result"
    }
   ],
   "source": [
    "b.append(3)\n",
    "a"
   ]
  },
  {
   "cell_type": "code",
   "execution_count": 33,
<<<<<<< HEAD
   "id": "67cfa86f",
=======
   "id": "ea97fe0e",
>>>>>>> 49310e63e545ea03d1119c50c45f8dcb404d95ee
   "metadata": {},
   "outputs": [
    {
     "data": {
      "text/plain": [
       "[1, 3, 'sfljks', 3]"
      ]
     },
     "execution_count": 33,
     "metadata": {},
     "output_type": "execute_result"
    }
   ],
   "source": [
    "c = b\n",
    "c"
   ]
  },
  {
   "cell_type": "code",
   "execution_count": 34,
<<<<<<< HEAD
   "id": "da093999",
=======
   "id": "0c026351",
>>>>>>> 49310e63e545ea03d1119c50c45f8dcb404d95ee
   "metadata": {},
   "outputs": [
    {
     "data": {
      "text/plain": [
       "[1, 3, 'sfljks', 3]"
      ]
     },
     "execution_count": 34,
     "metadata": {},
     "output_type": "execute_result"
    }
   ],
   "source": [
    "b"
   ]
  },
  {
   "cell_type": "code",
   "execution_count": 35,
<<<<<<< HEAD
   "id": "271f48b1",
=======
   "id": "560fea31",
>>>>>>> 49310e63e545ea03d1119c50c45f8dcb404d95ee
   "metadata": {},
   "outputs": [
    {
     "data": {
      "text/plain": [
       "[1, 3, 'sfljks', 3, 1231239712938]"
      ]
     },
     "execution_count": 35,
     "metadata": {},
     "output_type": "execute_result"
    }
   ],
   "source": [
    "b.append(1231239712938)\n",
    "b"
   ]
  },
  {
   "cell_type": "code",
   "execution_count": 36,
<<<<<<< HEAD
   "id": "605024f3",
=======
   "id": "c83fc794",
>>>>>>> 49310e63e545ea03d1119c50c45f8dcb404d95ee
   "metadata": {},
   "outputs": [
    {
     "data": {
      "text/plain": [
       "[1, 3, 'sfljks', 3, 1231239712938]"
      ]
     },
     "execution_count": 36,
     "metadata": {},
     "output_type": "execute_result"
    }
   ],
   "source": [
    "c"
   ]
  },
  {
   "cell_type": "code",
   "execution_count": 37,
<<<<<<< HEAD
   "id": "83198869",
=======
   "id": "7e284925",
>>>>>>> 49310e63e545ea03d1119c50c45f8dcb404d95ee
   "metadata": {},
   "outputs": [
    {
     "data": {
      "text/plain": [
       "[1,\n",
       " 2,\n",
       " 3,\n",
       " 4,\n",
       " 5,\n",
       " 6,\n",
       " [1, 3, 'sfljks', 3, 1231239712938],\n",
       " [1, 3, 'sfljks', 3, 1231239712938],\n",
       " [...]]"
      ]
     },
     "execution_count": 37,
     "metadata": {},
     "output_type": "execute_result"
    }
   ],
   "source": [
    "a.append(a)\n",
    "a"
   ]
  },
  {
   "cell_type": "code",
   "execution_count": 39,
<<<<<<< HEAD
   "id": "e2080df8",
=======
   "id": "ff8beb30",
>>>>>>> 49310e63e545ea03d1119c50c45f8dcb404d95ee
   "metadata": {},
   "outputs": [
    {
     "data": {
      "text/plain": [
       "[1,\n",
       " 2,\n",
       " 3,\n",
       " 4,\n",
       " 5,\n",
       " 6,\n",
       " [1, 3, 'sfljks', 3, 1231239712938],\n",
       " [1, 3, 'sfljks', 3, 1231239712938],\n",
       " [1,\n",
       "  2,\n",
       "  3,\n",
       "  4,\n",
       "  5,\n",
       "  6,\n",
       "  [1, 3, 'sfljks', 3, 1231239712938],\n",
       "  [1, 3, 'sfljks', 3, 1231239712938],\n",
       "  [...]]]"
      ]
     },
     "execution_count": 39,
     "metadata": {},
     "output_type": "execute_result"
    }
   ],
   "source": [
    "a_copy = a.copy()\n",
    "a_copy"
   ]
  },
  {
   "cell_type": "code",
   "execution_count": 40,
<<<<<<< HEAD
   "id": "90eab249",
=======
   "id": "84e0a4e2",
>>>>>>> 49310e63e545ea03d1119c50c45f8dcb404d95ee
   "metadata": {},
   "outputs": [
    {
     "data": {
      "text/plain": [
       "[1,\n",
       " 2,\n",
       " 3,\n",
       " 4,\n",
       " 5,\n",
       " 6,\n",
       " [1, 3, 'sfljks', 3, 1231239712938, 'skdjfhsjkdfhksjdhf'],\n",
       " [1, 3, 'sfljks', 3, 1231239712938, 'skdjfhsjkdfhksjdhf'],\n",
       " [1,\n",
       "  2,\n",
       "  3,\n",
       "  4,\n",
       "  5,\n",
       "  6,\n",
       "  [1, 3, 'sfljks', 3, 1231239712938, 'skdjfhsjkdfhksjdhf'],\n",
       "  [1, 3, 'sfljks', 3, 1231239712938, 'skdjfhsjkdfhksjdhf'],\n",
       "  [...]]]"
      ]
     },
     "execution_count": 40,
     "metadata": {},
     "output_type": "execute_result"
    }
   ],
   "source": [
    "b.append('skdjfhsjkdfhksjdhf')\n",
    "a_copy"
   ]
  },
  {
   "cell_type": "code",
   "execution_count": 42,
<<<<<<< HEAD
   "id": "76bce546",
=======
   "id": "b0ed610f",
>>>>>>> 49310e63e545ea03d1119c50c45f8dcb404d95ee
   "metadata": {},
   "outputs": [
    {
     "data": {
      "text/plain": [
       "2"
      ]
     },
     "execution_count": 42,
     "metadata": {},
     "output_type": "execute_result"
    }
   ],
   "source": [
    "a = [\n",
    "    [1, 2, 3], \n",
    "    [2, 2, 8],\n",
    "    [3, 3, 3]\n",
    "]\n",
    "\n",
    "a[0][1]"
   ]
  },
  {
   "cell_type": "code",
   "execution_count": 53,
<<<<<<< HEAD
   "id": "8f80befc",
=======
   "id": "51bf9f65",
>>>>>>> 49310e63e545ea03d1119c50c45f8dcb404d95ee
   "metadata": {},
   "outputs": [
    {
     "data": {
      "text/plain": [
       "5"
      ]
     },
     "execution_count": 53,
     "metadata": {},
     "output_type": "execute_result"
    }
   ],
   "source": [
    "a = [1, 2, 3, 2, 1]\n",
    "b = []\n",
    "\n",
    "len(a)"
   ]
  },
  {
   "cell_type": "code",
   "execution_count": 59,
<<<<<<< HEAD
   "id": "6a2c9f40",
=======
   "id": "33cd8be0",
>>>>>>> 49310e63e545ea03d1119c50c45f8dcb404d95ee
   "metadata": {},
   "outputs": [
    {
     "data": {
      "text/plain": [
       "[20, 19, 18, 17, 16, 15, 14, 13, 12, 11]"
      ]
     },
     "execution_count": 59,
     "metadata": {},
     "output_type": "execute_result"
    }
   ],
   "source": [
    "list(range(20, 10, -1))"
   ]
  },
  {
   "cell_type": "code",
   "execution_count": 55,
<<<<<<< HEAD
   "id": "29f1f210",
=======
   "id": "b72f7cf6",
>>>>>>> 49310e63e545ea03d1119c50c45f8dcb404d95ee
   "metadata": {},
   "outputs": [
    {
     "data": {
      "text/plain": [
       "0"
      ]
     },
     "execution_count": 55,
     "metadata": {},
     "output_type": "execute_result"
    }
   ],
   "source": [
    "dot_product = 0\n",
    "\n",
    "for i in range(min(len(a), len(b))): \n",
    "    dot_product += a[i] * b[i]\n",
    "    \n",
    "dot_product"
   ]
  },
  {
   "cell_type": "code",
   "execution_count": null,
<<<<<<< HEAD
   "id": "ddacdf17",
=======
   "id": "1df6e9a8",
>>>>>>> 49310e63e545ea03d1119c50c45f8dcb404d95ee
   "metadata": {},
   "outputs": [],
   "source": []
  },
  {
   "cell_type": "code",
   "execution_count": 67,
<<<<<<< HEAD
   "id": "1d0bd70c",
=======
   "id": "82b74f04",
>>>>>>> 49310e63e545ea03d1119c50c45f8dcb404d95ee
   "metadata": {},
   "outputs": [
    {
     "name": "stdout",
     "output_type": "stream",
     "text": [
      "2\n",
      "2\n",
      "12 29\n",
      "-1 -2\n"
     ]
    },
    {
     "data": {
      "text/plain": [
       "[[12, 29], [-1, -2]]"
      ]
     },
     "execution_count": 67,
     "metadata": {},
     "output_type": "execute_result"
    }
   ],
   "source": [
    "n = int(input())\n",
    "m = int(input())\n",
    "\n",
    "matrix = []\n",
    "for i in range(n):\n",
    "    # зчитуємо рядок матриці\n",
    "    row = [int(b) for b in input().split()]\n",
    "    matrix.append(row)\n",
    "\n",
    "matrix"
   ]
  },
  {
   "cell_type": "code",
   "execution_count": 68,
<<<<<<< HEAD
   "id": "0e6322c9",
=======
   "id": "de92147b",
>>>>>>> 49310e63e545ea03d1119c50c45f8dcb404d95ee
   "metadata": {},
   "outputs": [
    {
     "name": "stdout",
     "output_type": "stream",
     "text": [
      "2\n",
      "2\n",
      "12 23\n",
      "-1 -2\n"
     ]
    },
    {
     "data": {
      "text/plain": [
       "[12, 23, -1, -2]"
      ]
     },
     "execution_count": 68,
     "metadata": {},
     "output_type": "execute_result"
    }
   ],
   "source": [
    "n = int(input())\n",
    "m = int(input())\n",
    "\n",
    "matrix = []\n",
    "for i in range(n):\n",
    "    # зчитуємо рядок матриці\n",
    "    row = [int(b) for b in input().split()]\n",
    "    matrix += row\n",
    "\n",
    "matrix"
   ]
<<<<<<< HEAD
  },
  {
   "cell_type": "markdown",
   "id": "6e30c417",
   "metadata": {},
   "source": [
    "# Самостійна робота \n",
    "\n",
    "Задано з клавіатури n. Знайти добуток всіх чисел від 1 до n (ВКЛЮЧНО), які діляться на 8\n",
    "\n",
    "Здати або на гітхаб, або на пошту davendiy@knu.ua"
   ]
  },
  {
   "cell_type": "code",
   "execution_count": null,
   "id": "0c5f5f62",
   "metadata": {},
   "outputs": [],
   "source": []
  },
  {
   "cell_type": "code",
   "execution_count": null,
   "id": "76a0c583",
   "metadata": {},
   "outputs": [],
   "source": []
=======
>>>>>>> 49310e63e545ea03d1119c50c45f8dcb404d95ee
  }
 ],
 "metadata": {
  "kernelspec": {
   "display_name": "Python [conda env:root] *",
   "language": "python",
   "name": "conda-root-py"
  },
  "language_info": {
   "codemirror_mode": {
    "name": "ipython",
    "version": 3
   },
   "file_extension": ".py",
   "mimetype": "text/x-python",
   "name": "python",
   "nbconvert_exporter": "python",
   "pygments_lexer": "ipython3",
   "version": "3.9.12"
  }
 },
 "nbformat": 4,
 "nbformat_minor": 5
}
