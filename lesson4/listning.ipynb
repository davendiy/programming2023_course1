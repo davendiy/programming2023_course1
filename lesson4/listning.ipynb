{
 "cells": [
  {
   "cell_type": "markdown",
   "id": "4bed942f-7695-40b3-9a4b-95457d03998c",
   "metadata": {},
   "source": [
    "# Булеві вирази, умови. "
   ]
  },
  {
   "cell_type": "markdown",
   "id": "54705c19-c50b-412c-a0d1-3687ac302b66",
   "metadata": {},
   "source": [
    "## Задача 1. Перевірити чи належить точка прямій/променю/відрізку"
   ]
  },
  {
   "cell_type": "code",
   "execution_count": 1,
   "id": "32482b82-757e-4003-be09-0b489a3be952",
   "metadata": {},
   "outputs": [],
   "source": [
    "# допоміжна бібліотека для візуалізації\n",
    "import matplotlib.pyplot as plt "
   ]
  },
  {
   "cell_type": "code",
   "execution_count": 2,
   "id": "f359beae-0f1c-4cc8-87a5-d0063ce8ef6b",
   "metadata": {},
   "outputs": [
    {
     "name": "stdin",
     "output_type": "stream",
     "text": [
      " 1 6\n",
      " 3 7\n",
      " 5 8\n"
     ]
    }
   ],
   "source": [
    "xc, yc = input().split()\n",
    "xa, ya = input().split()\n",
    "xb, yb = input().split()\n",
    "\n",
    "xa, xb, xc, ya, yb, yc = float(xa), float(xb), float(xc), float(ya), float(yb), float(yc)"
   ]
  },
  {
   "cell_type": "code",
   "execution_count": 10,
   "id": "138fa912-afe4-4a87-9119-c28803520e7f",
   "metadata": {},
   "outputs": [],
   "source": [
    "x_ac = xc - xa\n",
    "y_ac = yc - ya \n",
    "\n",
    "x_bc = xc - xb\n",
    "y_bc = yc - yb\n",
    "\n",
    "x_ab = xb - xa \n",
    "y_ab = yb - ya \n",
    "\n"
   ]
  },
  {
   "cell_type": "code",
   "execution_count": 19,
   "id": "75668c7f-41f1-44f3-b629-109c5848b23a",
   "metadata": {},
   "outputs": [
    {
     "data": {
      "text/plain": [
       "<matplotlib.legend.Legend at 0x108dddbd0>"
      ]
     },
     "execution_count": 19,
     "metadata": {},
     "output_type": "execute_result"
    },
    {
     "data": {
      "image/png": "[encoded data removed]",
      "text/plain": [
       "<Figure size 640x480 with 1 Axes>"
      ]
     },
     "metadata": {},
     "output_type": "display_data"
    }
   ],
   "source": [
    "plt.scatter([xa, xb, xc], [ya, yb, yc])\n",
    "plt.scatter([xa,], [ya,], label='a')\n",
    "plt.scatter([xb,], [yb,], label='b')\n",
    "plt.scatter([xc,], [yc,], label='c')\n",
    "plt.legend()\n"
   ]
  },
  {
   "cell_type": "code",
   "execution_count": 11,
   "id": "84bba7d9-2c9e-4d6f-883c-5a98e6ea1306",
   "metadata": {},
   "outputs": [],
   "source": [
    "on_line = x_ac * y_bc == x_bc * y_ac"
   ]
  },
  {
   "cell_type": "code",
   "execution_count": 13,
   "id": "ed4a76a4-dd86-449e-bb21-bac2e097fdbe",
   "metadata": {},
   "outputs": [
    {
     "data": {
      "text/plain": [
       "True"
      ]
     },
     "execution_count": 13,
     "metadata": {},
     "output_type": "execute_result"
    }
   ],
   "source": [
    "on_line"
   ]
  },
  {
   "cell_type": "code",
   "execution_count": 23,
   "id": "1761509a-fbf0-4294-86f6-4baa93f97fa5",
   "metadata": {},
   "outputs": [
    {
     "name": "stdout",
     "output_type": "stream",
     "text": [
      "не на відрізку\n",
      "не на промені АВ\n"
     ]
    }
   ],
   "source": [
    "\n",
    "coeff1 = x_ac / x_bc if x_bc != 0 else y_ac / y_bc\n",
    "if coeff1 > 0: \n",
    "    print(\"не на відрізку\")\n",
    "else: \n",
    "    print(\"на відрізку\")\n",
    "\n",
    "coeff2 = x_ac / x_ab \n",
    "if coeff2 > 0: \n",
    "    print(\"на промені АВ\")\n",
    "else: \n",
    "    print(\"не на промені АВ\")\n"
   ]
  },
  {
   "cell_type": "markdown",
   "id": "ab8ea502-d93c-496d-a083-3b4592c93642",
   "metadata": {},
   "source": [
    "# Zen of Python"
   ]
  },
  {
   "cell_type": "code",
   "execution_count": 5,
   "id": "b8495dd5-ae19-4487-bc8a-6655f4bd76da",
   "metadata": {},
   "outputs": [
    {
     "name": "stdout",
     "output_type": "stream",
     "text": [
      "The Zen of Python, by Tim Peters\n",
      "\n",
      "Beautiful is better than ugly.\n",
      "Explicit is better than implicit.\n",
      "Simple is better than complex.\n",
      "Complex is better than complicated.\n",
      "Flat is better than nested.\n",
      "Sparse is better than dense.\n",
      "Readability counts.\n",
      "Special cases aren't special enough to break the rules.\n",
      "Although practicality beats purity.\n",
      "Errors should never pass silently.\n",
      "Unless explicitly silenced.\n",
      "In the face of ambiguity, refuse the temptation to guess.\n",
      "There should be one-- and preferably only one --obvious way to do it.\n",
      "Although that way may not be obvious at first unless you're Dutch.\n",
      "Now is better than never.\n",
      "Although never is often better than *right* now.\n",
      "If the implementation is hard to explain, it's a bad idea.\n",
      "If the implementation is easy to explain, it may be a good idea.\n",
      "Namespaces are one honking great idea -- let's do more of those!\n"
     ]
    }
   ],
   "source": [
    "import this"
   ]
  },
  {
   "cell_type": "code",
   "execution_count": 24,
   "id": "937ede73-2224-4767-b2b7-30fd8274edb7",
   "metadata": {},
   "outputs": [],
   "source": [
    "\n",
    "if xa > 0: \n",
    "    if xb > 0: \n",
    "        if xc > 0:\n",
    "            if ya > 0: \n",
    "                if yb > 0: \n",
    "                    if yc > 0:\n",
    "                        print(\"ми туть\") \n",
    "\n",
    "            else: \n",
    "                print(\"ми туть 2\")\n",
    "\n",
    "\n",
    "if xa <= 0: \n",
    "    pass \n",
    "elif xb <= 0: \n",
    "    pass\n",
    "elif xc <= 0: \n",
    "    pass\n",
    "elif ya <= 0: \n",
    "    print(\"ми туть 2\")\n",
    "elif yb <= 0: \n",
    "    pass\n",
    "elif yc <= 0: \n",
    "    pass\n",
    "else:\n",
    "    print(\"ми туть\")\n",
    "\n",
    "\n",
    "\n",
    "if (xa > 0 \n",
    "     and xb > 0\n",
    "     and xc > 0\n",
    "     and ya > 0\n",
    "     and yb > 0\n",
    "     and yc > 0): \n",
    "    pass\n",
    "    "
   ]
  },
  {
   "cell_type": "markdown",
   "id": "3afff5a9-f1bb-4a11-8c97-57350718e6cc",
   "metadata": {},
   "source": [
    "# Як поміняти дві змінні місцями?"
   ]
  },
  {
   "cell_type": "code",
   "execution_count": 7,
   "id": "8bec45ff-4ed1-4f07-8dab-0d3f850f7640",
   "metadata": {},
   "outputs": [
    {
     "data": {
      "text/plain": [
       "(4, 3)"
      ]
     },
     "execution_count": 7,
     "metadata": {},
     "output_type": "execute_result"
    }
   ],
   "source": [
    "x = 3\n",
    "y = 4\n",
    "\n",
    "tmp = y \n",
    "y = x\n",
    "x = tmp\n",
    "\n",
    "x, y"
   ]
  },
  {
   "cell_type": "code",
   "execution_count": 8,
   "id": "bb3f3bab-3412-4fda-b6bb-60f7cc7cd8de",
   "metadata": {},
   "outputs": [
    {
     "data": {
      "text/plain": [
       "(4, 3)"
      ]
     },
     "execution_count": 8,
     "metadata": {},
     "output_type": "execute_result"
    }
   ],
   "source": [
    "x = 3\n",
    "y = 4\n",
    "\n",
    "x, y = y, x\n",
    "\n",
    "x, y"
   ]
  },
  {
   "cell_type": "code",
   "execution_count": 14,
   "id": "9b67d49d-f4f3-489d-a365-b8912a8b3e3b",
   "metadata": {},
   "outputs": [
    {
     "data": {
      "text/plain": [
       "0.30000000000000004"
      ]
     },
     "execution_count": 14,
     "metadata": {},
     "output_type": "execute_result"
    }
   ],
   "source": [
    "0.1 + 0.2"
   ]
  },
  {
   "cell_type": "code",
   "execution_count": 18,
   "id": "08db9aeb-27ff-422d-a7ac-c68b517ab8a9",
   "metadata": {},
   "outputs": [
    {
     "data": {
      "text/plain": [
       "(3, 4)"
      ]
     },
     "execution_count": 18,
     "metadata": {},
     "output_type": "execute_result"
    }
   ],
   "source": [
    "x = 4\n",
    "y = 3\n",
    "\n",
    "# (x, y) == (3, 4)\n",
    "x = y - x\n",
    "# (x, y) == (1, 4)\n",
    "y = y - x \n",
    "# (x, y) == (1, 3)\n",
    "x = y + x\n",
    "\n",
    "# (x, y) == (4, 3)\n",
    "x, y"
   ]
  }
 ],
 "metadata": {
  "kernelspec": {
   "display_name": "Python 3 (ipykernel)",
   "language": "python",
   "name": "python3"
  },
  "language_info": {
   "codemirror_mode": {
    "name": "ipython",
    "version": 3
   },
   "file_extension": ".py",
   "mimetype": "text/x-python",
   "name": "python",
   "nbconvert_exporter": "python",
   "pygments_lexer": "ipython3",
   "version": "3.11.5"
  }
 },
 "nbformat": 4,
 "nbformat_minor": 5
}
