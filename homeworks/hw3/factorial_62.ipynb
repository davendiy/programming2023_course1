{
 "cells": [
  {
   "cell_type": "code",
   "execution_count": 2,
   "id": "4915d96a",
   "metadata": {},
   "outputs": [
    {
     "name": "stdout",
     "output_type": "stream",
     "text": [
      "2432902008176640000\n",
      "1001\n"
     ]
    }
   ],
   "source": [
    "n = int(input())\n",
    "\n",
    "start = 2\n",
    "end = 2000\n",
    "\n",
    "while True: \n",
    "    if end == start or end == start + 1: \n",
    "        print(start)\n",
    "        break\n",
    "\n",
    "    mid = (end + start) // 2\n",
    "    if n % mid == 0 and n % (mid - 1) == 0: \n",
    "        start = mid\n",
    "    else: \n",
    "        end = mid\n"
   ]
  },
  {
   "cell_type": "code",
   "execution_count": null,
   "id": "9d15bc37",
   "metadata": {},
   "outputs": [],
   "source": [
    "res = {}\n",
    "\n",
    "for i in range(1, 2000): \n",
    "    res[i] = factorial(2000)"
   ]
  },
  {
   "cell_type": "code",
   "execution_count": 17,
   "id": "5100779a",
   "metadata": {},
   "outputs": [
    {
     "name": "stdout",
     "output_type": "stream",
     "text": [
      "2000\n"
     ]
    }
   ],
   "source": [
    "import math \n",
    "n = input()\n",
    "\n",
    "if (num_dig := len(n)) < 10: \n",
    "    n = int(n)\n",
    "    i = 1\n",
    "    while n > 1: \n",
    "        n = n // i \n",
    "        i += 1 \n",
    "    \n",
    "    print(i - 1 if i > 1 else 1)\n",
    "else: \n",
    "    \n",
    "    res_sum_dig = 0\n",
    "    for k in range(1, 2000 + 1): \n",
    "        res_sum_dig += math.log10(k)\n",
    "        \n",
    "        if math.ceil(res_sum_dig) == num_dig: \n",
    "            print(k)\n",
    "            break\n",
    "    "
   ]
  },
  {
   "cell_type": "code",
   "execution_count": 12,
   "id": "39349df2",
   "metadata": {},
   "outputs": [
    {
     "name": "stdout",
     "output_type": "stream",
     "text": [
      "2000\n"
     ]
    }
   ],
   "source": [
    "n = factorial(2000)\n",
    "i = 1\n",
    "\n",
    "while n > 1: \n",
    "    n = n // i \n",
    "    i += 1 \n",
    "\n",
    "\n",
    "print(i - 1 if i > 1 else 1)"
   ]
  }
 ],
 "metadata": {
  "kernelspec": {
   "display_name": "SageMath 9.7",
   "language": "sage",
   "name": "sagemath-dev"
  },
  "language_info": {
   "codemirror_mode": {
    "name": "ipython",
    "version": 3
   },
   "file_extension": ".py",
   "mimetype": "text/x-python",
   "name": "python",
   "nbconvert_exporter": "python",
   "pygments_lexer": "ipython3",
   "version": "3.8.10"
  }
 },
 "nbformat": 4,
 "nbformat_minor": 5
}
