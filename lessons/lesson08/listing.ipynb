{
 "cells": [
  {
   "cell_type": "markdown",
   "id": "cff4af64",
   "metadata": {},
   "source": [
    "# 1. Скалярний добуток двох векторів"
   ]
  },
  {
   "cell_type": "code",
   "execution_count": 7,
   "id": "4f2844c3",
   "metadata": {},
   "outputs": [
    {
     "name": "stdout",
     "output_type": "stream",
     "text": [
      "  2           0 LOAD_NAME                0 (range)\n",
      "              2 LOAD_CONST               0 (10)\n",
      "              4 CALL_FUNCTION            1\n",
      "              6 GET_ITER\n",
      "        >>    8 FOR_ITER                12 (to 22)\n",
      "             10 STORE_NAME               1 (i)\n",
      "\n",
      "  3          12 LOAD_NAME                2 (print)\n",
      "             14 LOAD_NAME                1 (i)\n",
      "             16 CALL_FUNCTION            1\n",
      "             18 POP_TOP\n",
      "             20 JUMP_ABSOLUTE            8\n",
      "        >>   22 LOAD_CONST               1 (None)\n",
      "             24 RETURN_VALUE\n"
     ]
    }
   ],
   "source": [
    "import dis \n",
    "\n",
    "tmp = \"\"\"\n",
    "for i in range(10): \n",
    "    print(i)\n",
    "\"\"\"\n",
    "\n",
    "\n",
    "dis.dis(tmp)"
   ]
  },
  {
   "cell_type": "code",
   "execution_count": 8,
   "id": "4035f959",
   "metadata": {},
   "outputs": [
    {
     "data": {
      "text/plain": [
       "-5"
      ]
     },
     "execution_count": 8,
     "metadata": {},
     "output_type": "execute_result"
    }
   ],
   "source": [
    "x = [1, 2, 3, 4, -1, -2, -5]\n",
    "\n",
    "\n",
    "max(x, key=lambda tmp: tmp**2)"
   ]
  },
  {
   "cell_type": "code",
   "execution_count": 9,
   "id": "fb5d9ff5",
   "metadata": {},
   "outputs": [
    {
     "data": {
      "text/plain": [
       "[-5, -2, -1, 1, 2, 3, 4]"
      ]
     },
     "execution_count": 9,
     "metadata": {},
     "output_type": "execute_result"
    }
   ],
   "source": [
    "x.sort()\n",
    "x"
   ]
  },
  {
   "cell_type": "code",
   "execution_count": 4,
   "id": "803ae839",
   "metadata": {},
   "outputs": [
    {
     "data": {
      "text/plain": [
       "'sdflksjfd'"
      ]
     },
     "execution_count": 4,
     "metadata": {},
     "output_type": "execute_result"
    }
   ],
   "source": [
    "max(['sdflksjfd', 'sdf', 'dsfsfjlsdfjsl', 'd'])"
   ]
  },
  {
   "cell_type": "code",
   "execution_count": null,
   "id": "742a4455",
   "metadata": {},
   "outputs": [],
   "source": [
    "k = int(input())\n",
    "arr = list(map(int, input().split()))\n",
    "\n",
    "arr.sort()\n",
    "print(arr[k-1])"
   ]
  },
  {
   "cell_type": "code",
   "execution_count": 11,
   "id": "9219e77d",
   "metadata": {},
   "outputs": [],
   "source": [
    "res = 0\n",
    "for x, y in zip(arr1, arr2): \n",
    "    res += x * y"
   ]
  },
  {
   "cell_type": "code",
   "execution_count": 10,
   "id": "0d2150be",
   "metadata": {},
   "outputs": [],
   "source": [
    "arr1 = [1, 2, 3, 4]\n",
    "arr2 = [1, 1, 1, 1, 1, 1]\n",
    "\n",
    "res = 0\n",
    "for i in range(min(len(arr1), len(arr2))): \n",
    "    res += arr1[i] * arr2[i]"
   ]
  },
  {
   "cell_type": "code",
   "execution_count": 14,
   "id": "b5b46ace",
   "metadata": {},
   "outputs": [
    {
     "name": "stdout",
     "output_type": "stream",
     "text": [
      "Please, enter (n, m) of matrix:\n",
      "--> 2 3\n",
      "Please, enter 0th row\n",
      "--> 2 2 8\n",
      "Please, enter 1th row\n",
      "--> 3 2 2\n",
      "Please, enter (n, m) of matrix:\n",
      "--> 3 4\n",
      "Please, enter 0th row\n",
      "--> 0 0 0 9\n",
      "Please, enter 1th row\n",
      "--> 1 1 2 8\n",
      "Please, enter 2th row\n",
      "--> 2 2 8 7\n"
     ]
    }
   ],
   "source": [
    "A = []\n",
    "\n",
    "n1, m1 = [int(el) for el in input(\"Please, enter (n, m) of matrix:\\n--> \").split()]\n",
    "\n",
    "for i in range(n1):\n",
    "    row = [int(el) for el in input(f\"Please, enter {i}th row\\n--> \").split()]    # і-ий рядок \n",
    "    \n",
    "    if len(row) != m1: \n",
    "        raise ValueError()\n",
    "    A.append(row)\n",
    "    \n",
    "    \n",
    "B = []\n",
    "\n",
    "n2, m2 = [int(el) for el in input(\"Please, enter (n, m) of matrix:\\n--> \").split()]\n",
    "\n",
    "for i in range(n2):\n",
    "    row = [int(el) for el in input(f\"Please, enter {i}th row\\n--> \").split()]    # і-ий рядок \n",
    "    \n",
    "    if len(row) != m2: \n",
    "        raise ValueError()\n",
    "        \n",
    "    B.append(row)"
   ]
  },
  {
   "cell_type": "code",
   "execution_count": 17,
   "id": "1d4abefa",
   "metadata": {},
   "outputs": [
    {
     "data": {
      "text/plain": [
       "[[0, 0, 0, 0], [0, 0, 0, 0]]"
      ]
     },
     "execution_count": 17,
     "metadata": {},
     "output_type": "execute_result"
    }
   ],
   "source": [
    "if m1 != n2: \n",
    "    raise ValueError(f\"can't multiply matrices of shape {(n1, m1)}, {(n2, m2)}\")\n",
    "\n",
    "\n",
    "# result matrix (n1, m2)\n",
    "\n",
    "C = [[0] * m2 for _ in range(n1)]\n",
    "C"
   ]
  },
  {
   "cell_type": "code",
   "execution_count": 22,
   "id": "a9aa63bd",
   "metadata": {},
   "outputs": [
    {
     "data": {
      "text/plain": [
       "[[0, 0, 0, 0], [0, 0, 0, 0]]"
      ]
     },
     "execution_count": 22,
     "metadata": {},
     "output_type": "execute_result"
    }
   ],
   "source": [
    "C = [[0] * m2] * n1\n",
    "C"
   ]
  },
  {
   "cell_type": "code",
   "execution_count": 23,
   "id": "0714f9a7",
   "metadata": {},
   "outputs": [
    {
     "data": {
      "text/plain": [
       "[[100, 0, 0, 0], [100, 0, 0, 0]]"
      ]
     },
     "execution_count": 23,
     "metadata": {},
     "output_type": "execute_result"
    }
   ],
   "source": [
    "C[0][0] = 100\n",
    "C"
   ]
  },
  {
   "cell_type": "code",
   "execution_count": 21,
   "id": "dd190e1c",
   "metadata": {},
   "outputs": [
    {
     "data": {
      "text/plain": [
       "[0, 0, 0, 0, 0, 0, 0, 0, 0, 0]"
      ]
     },
     "execution_count": 21,
     "metadata": {},
     "output_type": "execute_result"
    }
   ],
   "source": [
    "[0] * 10"
   ]
  },
  {
   "cell_type": "code",
   "execution_count": 19,
   "id": "50f212a3",
   "metadata": {},
   "outputs": [
    {
     "data": {
      "text/plain": [
       "[[18, 18, 68, 90], [6, 6, 20, 57]]"
      ]
     },
     "execution_count": 19,
     "metadata": {},
     "output_type": "execute_result"
    }
   ],
   "source": [
    "for i in range(n1): \n",
    "    for j in range(m2): \n",
    "        for k in range(m1): \n",
    "            C[i][j] += A[i][k] * B[k][j]\n",
    "\n",
    "C"
   ]
  }
 ],
 "metadata": {
  "kernelspec": {
   "display_name": "Python [conda env:root] *",
   "language": "python",
   "name": "conda-root-py"
  },
  "language_info": {
   "codemirror_mode": {
    "name": "ipython",
    "version": 3
   },
   "file_extension": ".py",
   "mimetype": "text/x-python",
   "name": "python",
   "nbconvert_exporter": "python",
   "pygments_lexer": "ipython3",
   "version": "3.9.12"
  }
 },
 "nbformat": 4,
 "nbformat_minor": 5
}
