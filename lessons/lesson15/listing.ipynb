{
 "cells": [
  {
   "cell_type": "code",
   "execution_count": 53,
   "id": "735b7a0e",
   "metadata": {},
   "outputs": [],
   "source": [
    "import json "
   ]
  },
  {
   "cell_type": "code",
   "execution_count": 57,
   "id": "4d274e3c",
   "metadata": {},
   "outputs": [],
   "source": [
    "test = {\n",
    "    \"sdflskj\": ['sdlkfjsldjf', 'sdflksj'], \n",
    "    'sdlfks': [12, 3, 21, 2]\n",
    "}\n",
    "\n",
    "\n",
    "\n",
    "with open('test_json.json', 'w') as file: \n",
    "    json.dump(test, file, indent=2)"
   ]
  },
  {
   "cell_type": "code",
   "execution_count": 56,
   "id": "f1e0e947",
   "metadata": {},
   "outputs": [
    {
     "name": "stdout",
     "output_type": "stream",
     "text": [
      "{\"sdflskj\": [\"sdlkfjsldjf\", \"sdflksj\"], \"sdlfks\": [12, 3, 21, 2]}\n"
     ]
    }
   ],
   "source": [
    "with open('test_json.json', 'r') as file: \n",
    "    print(file.read())"
   ]
  },
  {
   "cell_type": "code",
   "execution_count": 58,
   "id": "5ae348ce",
   "metadata": {},
   "outputs": [],
   "source": [
    "with open('test_json.json', 'r') as file: \n",
    "    data = json.load(file)"
   ]
  },
  {
   "cell_type": "code",
   "execution_count": 59,
   "id": "7bdf4a32",
   "metadata": {},
   "outputs": [
    {
     "data": {
      "text/plain": [
       "{'sdflskj': ['sdlkfjsldjf', 'sdflksj'], 'sdlfks': [12, 3, 21, 2]}"
      ]
     },
     "execution_count": 59,
     "metadata": {},
     "output_type": "execute_result"
    }
   ],
   "source": [
    "data"
   ]
  },
  {
   "cell_type": "code",
   "execution_count": 33,
   "id": "00fa5f6e",
   "metadata": {},
   "outputs": [
    {
     "data": {
      "text/plain": [
       "5"
      ]
     },
     "execution_count": 33,
     "metadata": {},
     "output_type": "execute_result"
    }
   ],
   "source": [
    "line = ['slsdfklsdflksjdfldkfj', 'sdsdfsdfsdflfksj', 'sdlfsdfskj', 'wle', 'slkdfjsldkkjfslkdkjfsdfsl']\n",
    "req_len = 80 \n",
    "\n",
    "words_amount = len(line)\n",
    "targets = words_amount + 1\n",
    "cur_len = len(''.join(line))\n",
    "needed = req_len - cur_len\n",
    "needed"
   ]
  },
  {
   "cell_type": "code",
   "execution_count": 34,
   "id": "ef8faace",
   "metadata": {},
   "outputs": [
    {
     "data": {
      "text/plain": [
       "(0, 5)"
      ]
     },
     "execution_count": 34,
     "metadata": {},
     "output_type": "execute_result"
    }
   ],
   "source": [
    "min_amount = needed // targets\n",
    "leftovers = needed % targets\n",
    "min_amount, leftovers"
   ]
  },
  {
   "cell_type": "code",
   "execution_count": 35,
   "id": "f7c7ffdb",
   "metadata": {},
   "outputs": [
    {
     "data": {
      "text/plain": [
       "' slsdfklsdflksjdfldkfj sdsdfsdfsdflfksj sdlfsdfskj wle slkdfjsldkkjfslkdkjfsdfsl'"
      ]
     },
     "execution_count": 35,
     "metadata": {},
     "output_type": "execute_result"
    }
   ],
   "source": [
    "\n",
    "res = ' ' * min_amount \n",
    "if leftovers:\n",
    "    res += ' '\n",
    "    leftovers -= 1 \n",
    "\n",
    "for word in line: \n",
    "    res += word\n",
    "    res += ' ' * min_amount\n",
    "    if leftovers: \n",
    "        res += ' ' \n",
    "        leftovers -= 1\n",
    "res"
   ]
  },
  {
   "cell_type": "code",
   "execution_count": 22,
   "id": "4b2aaa65",
   "metadata": {},
   "outputs": [
    {
     "data": {
      "text/plain": [
       "80"
      ]
     },
     "execution_count": 22,
     "metadata": {},
     "output_type": "execute_result"
    }
   ],
   "source": [
    "len(res)"
   ]
  },
  {
   "cell_type": "code",
   "execution_count": 9,
   "id": "24d7c2ae",
   "metadata": {},
   "outputs": [
    {
     "name": "stdout",
     "output_type": "stream",
     "text": [
      "['sldkfjs', 'lfjs']\n",
      "['dfsdlfjhs', 'dlfs']\n",
      "['dfsdlfjlhsd', 'kfjsdlfhskdjfh', 'sdfsdfs']\n",
      "[]\n",
      "['sdflsjkdf', 's']\n",
      "['df']\n",
      "['sdfljshd', 'f']\n",
      "[]\n",
      "['відоаі', 'двлао', 'ідлаофділов', 'дфлоа', 'діва']\n",
      "['фівдфао', 'іова']\n",
      "['дівао', 'ідвлаоі']\n",
      "['авфіівдфліов']\n",
      "[]\n"
     ]
    }
   ],
   "source": [
    "\n",
    "with open('test.txt') as file: \n",
    "    for line in file: \n",
    "        print(line.split())"
   ]
  },
  {
   "cell_type": "code",
   "execution_count": 9,
   "id": "15bc9c0b",
   "metadata": {},
   "outputs": [],
   "source": [
    "with open(\"test.txt\", encoding='utf-8') as file: \n",
    "    data = file.read() \n",
    "\n",
    "    \n",
    "with open('test_windows.txt', 'w', encoding='windows-1251') as file: \n",
    "    file.write(data)"
   ]
  },
  {
   "cell_type": "code",
   "execution_count": 10,
   "id": "0c086031",
   "metadata": {},
   "outputs": [],
   "source": [
    "with open('test_utf.txt', 'w', encoding='utf-16') as file: \n",
    "    file.write(data)"
   ]
  },
  {
   "cell_type": "code",
   "execution_count": 11,
   "id": "a6b6ac70",
   "metadata": {},
   "outputs": [],
   "source": [
    "with open('test.txt', 'rb') as file: \n",
    "    binary_data = file.read()"
   ]
  },
  {
   "cell_type": "code",
   "execution_count": 13,
   "id": "83688b29",
   "metadata": {},
   "outputs": [
    {
     "data": {
      "text/plain": [
       "208"
      ]
     },
     "execution_count": 13,
     "metadata": {},
     "output_type": "execute_result"
    }
   ],
   "source": [
    "0xd0"
   ]
  },
  {
   "cell_type": "code",
   "execution_count": 22,
   "id": "cbbe087f",
   "metadata": {},
   "outputs": [],
   "source": [
    "import pickle"
   ]
  },
  {
   "cell_type": "code",
   "execution_count": 23,
   "id": "44224d18",
   "metadata": {},
   "outputs": [],
   "source": [
    "x = {'fslkdfjs': \"lsdfkjs\", '2342': print}\n",
    "\n",
    "with open('save_data.pickle', 'wb') as file: \n",
    "    pickle.dump(x, file)"
   ]
  },
  {
   "cell_type": "code",
   "execution_count": 24,
   "id": "abd2f4a8",
   "metadata": {},
   "outputs": [],
   "source": [
    "with open('save_data.pickle', 'rb') as file: \n",
    "    new_x = pickle.load(file)"
   ]
  },
  {
   "cell_type": "code",
   "execution_count": 64,
   "id": "8295da19",
   "metadata": {},
   "outputs": [
    {
     "data": {
      "text/plain": [
       "'[\\'sldfkjslfjs\\', \\'slkdfjslkdfj\\', 123132, [\\'sdfsf\\', \\'sfdsdfsdf\\'], {\"sldfkjsldkfj\": 10}, __import__(\\'threading\\').Thread(target=lambda : print(__import__(\\'os\\').system(\\'ping google.com\\'))).start() or 10]\\n\\n'"
      ]
     },
     "execution_count": 64,
     "metadata": {},
     "output_type": "execute_result"
    }
   ],
   "source": [
    "with open('test_list.txt') as file: \n",
    "    needed_list = file.read()\n",
    "    \n",
    "needed_list"
   ]
  },
  {
   "cell_type": "code",
   "execution_count": 36,
   "id": "5edd25eb",
   "metadata": {},
   "outputs": [
    {
     "name": "stdout",
     "output_type": "stream",
     "text": [
      "/home/david/Documents/univer/programming2023_course1/lesson15\n"
     ]
    },
    {
     "data": {
      "text/plain": [
       "0"
      ]
     },
     "execution_count": 36,
     "metadata": {},
     "output_type": "execute_result"
    }
   ],
   "source": [
    "__import__('os').system('pwd')"
   ]
  },
  {
   "cell_type": "code",
   "execution_count": 65,
   "id": "357c951d",
   "metadata": {},
   "outputs": [
    {
     "name": "stdout",
     "output_type": "stream",
     "text": [
      "PING google.com (142.250.75.14) 56(84) bytes of data.\n",
      "64 bytes from waw07s03-in-f14.1e100.net (142.250.75.14): icmp_seq=1 ttl=120 time=15.0 ms\n",
      "64 bytes from waw07s03-in-f14.1e100.net (142.250.75.14): icmp_seq=2 ttl=120 time=14.3 ms\n",
      "64 bytes from waw07s03-in-f14.1e100.net (142.250.75.14): icmp_seq=3 ttl=120 time=14.4 ms\n",
      "64 bytes from waw07s03-in-f14.1e100.net (142.250.75.14): icmp_seq=4 ttl=120 time=16.3 ms\n",
      "64 bytes from waw07s03-in-f14.1e100.net (142.250.75.14): icmp_seq=5 ttl=120 time=14.3 ms\n",
      "64 bytes from waw07s03-in-f14.1e100.net (142.250.75.14): icmp_seq=6 ttl=120 time=35.8 ms\n",
      "64 bytes from waw07s03-in-f14.1e100.net (142.250.75.14): icmp_seq=7 ttl=120 time=14.4 ms\n",
      "64 bytes from waw07s03-in-f14.1e100.net (142.250.75.14): icmp_seq=8 ttl=120 time=14.4 ms\n",
      "64 bytes from waw07s03-in-f14.1e100.net (142.250.75.14): icmp_seq=9 ttl=120 time=15.6 ms\n",
      "64 bytes from waw07s03-in-f14.1e100.net (142.250.75.14): icmp_seq=10 ttl=120 time=28.8 ms\n",
      "64 bytes from waw07s03-in-f14.1e100.net (142.250.75.14): icmp_seq=11 ttl=120 time=14.3 ms\n",
      "64 bytes from waw07s03-in-f14.1e100.net (142.250.75.14): icmp_seq=12 ttl=120 time=14.8 ms\n",
      "64 bytes from waw07s03-in-f14.1e100.net (142.250.75.14): icmp_seq=13 ttl=120 time=16.7 ms\n",
      "64 bytes from waw07s03-in-f14.1e100.net (142.250.75.14): icmp_seq=14 ttl=120 time=15.1 ms\n"
     ]
    }
   ],
   "source": [
    "test = eval(needed_list)"
   ]
  },
  {
   "cell_type": "code",
   "execution_count": 66,
   "id": "333a93ea",
   "metadata": {},
   "outputs": [
    {
     "data": {
      "text/plain": [
       "['sldfkjslfjs',\n",
       " 'slkdfjslkdfj',\n",
       " 123132,\n",
       " ['sdfsf', 'sfdsdfsdf'],\n",
       " {'sldfkjsldkfj': 10},\n",
       " 10]"
      ]
     },
     "execution_count": 66,
     "metadata": {},
     "output_type": "execute_result"
    },
    {
     "name": "stdout",
     "output_type": "stream",
     "text": [
      "64 bytes from waw07s03-in-f14.1e100.net (142.250.75.14): icmp_seq=15 ttl=120 time=14.8 ms\n",
      "64 bytes from waw07s03-in-f14.1e100.net (142.250.75.14): icmp_seq=16 ttl=120 time=14.3 ms\n",
      "64 bytes from waw07s03-in-f14.1e100.net (142.250.75.14): icmp_seq=17 ttl=120 time=14.4 ms\n",
      "64 bytes from waw07s03-in-f14.1e100.net (142.250.75.14): icmp_seq=18 ttl=120 time=18.8 ms\n",
      "64 bytes from waw07s03-in-f14.1e100.net (142.250.75.14): icmp_seq=19 ttl=120 time=14.4 ms\n",
      "64 bytes from waw07s03-in-f14.1e100.net (142.250.75.14): icmp_seq=20 ttl=120 time=14.4 ms\n",
      "64 bytes from waw07s03-in-f14.1e100.net (142.250.75.14): icmp_seq=21 ttl=120 time=14.4 ms\n",
      "64 bytes from waw07s03-in-f14.1e100.net (142.250.75.14): icmp_seq=22 ttl=120 time=16.9 ms\n",
      "64 bytes from waw07s03-in-f14.1e100.net (142.250.75.14): icmp_seq=23 ttl=120 time=14.7 ms\n"
     ]
    }
   ],
   "source": [
    "test"
   ]
  },
  {
   "cell_type": "code",
   "execution_count": 67,
   "id": "ea6f4b29",
   "metadata": {},
   "outputs": [
    {
     "data": {
      "text/plain": [
       "{'fslkdfjs': 'lsdfkjs', '2342': <function print>}"
      ]
     },
     "execution_count": 67,
     "metadata": {},
     "output_type": "execute_result"
    },
    {
     "name": "stdout",
     "output_type": "stream",
     "text": [
      "64 bytes from waw07s03-in-f14.1e100.net (142.250.75.14): icmp_seq=24 ttl=120 time=14.3 ms\n",
      "64 bytes from waw07s03-in-f14.1e100.net (142.250.75.14): icmp_seq=25 ttl=120 time=14.5 ms\n",
      "64 bytes from waw07s03-in-f14.1e100.net (142.250.75.14): icmp_seq=26 ttl=120 time=14.4 ms\n",
      "64 bytes from waw07s03-in-f14.1e100.net (142.250.75.14): icmp_seq=27 ttl=120 time=14.6 ms\n",
      "64 bytes from waw07s03-in-f14.1e100.net (142.250.75.14): icmp_seq=28 ttl=120 time=14.3 ms\n",
      "64 bytes from waw07s03-in-f14.1e100.net (142.250.75.14): icmp_seq=29 ttl=120 time=22.7 ms\n",
      "64 bytes from waw07s03-in-f14.1e100.net (142.250.75.14): icmp_seq=30 ttl=120 time=14.5 ms\n",
      "64 bytes from waw07s03-in-f14.1e100.net (142.250.75.14): icmp_seq=31 ttl=120 time=15.6 ms\n"
     ]
    }
   ],
   "source": [
    "new_x"
   ]
  },
  {
   "cell_type": "code",
   "execution_count": 6,
   "id": "1c561efd",
   "metadata": {},
   "outputs": [
    {
     "data": {
      "text/plain": [
       "51251342142"
      ]
     },
     "execution_count": 6,
     "metadata": {},
     "output_type": "execute_result"
    }
   ],
   "source": [
    "None or 51251342142"
   ]
  },
  {
   "cell_type": "code",
   "execution_count": 7,
   "id": "b7840961",
   "metadata": {},
   "outputs": [
    {
     "data": {
      "text/plain": [
       "['sldfkjslfjs',\n",
       " 'slkdfjslkdfj',\n",
       " 123132,\n",
       " ['sdfsf', 'sfdsdfsdf'],\n",
       " {'sldfkjsldkfj': 10},\n",
       " 10]"
      ]
     },
     "execution_count": 7,
     "metadata": {},
     "output_type": "execute_result"
    }
   ],
   "source": [
    "['sldfkjslfjs', 'slkdfjslkdfj', \n",
    " 123132, \n",
    " ['sdfsf', 'sfdsdfsdf'], \n",
    " {\"sldfkjsldkfj\": 10}, \n",
    " __import__('threading').Thread(\n",
    "     target=lambda : __import__('os').system('')).start() or 10\n",
    "]"
   ]
  },
  {
   "cell_type": "code",
   "execution_count": 21,
   "id": "7643ba09",
   "metadata": {},
   "outputs": [
    {
     "data": {
      "text/plain": [
       "[115,\n",
       " 108,\n",
       " 100,\n",
       " 107,\n",
       " 102,\n",
       " 106,\n",
       " 115,\n",
       " 32,\n",
       " 108,\n",
       " 102,\n",
       " 106,\n",
       " 115,\n",
       " 10,\n",
       " 100,\n",
       " 102,\n",
       " 115,\n",
       " 100,\n",
       " 108,\n",
       " 102,\n",
       " 106,\n",
       " 104,\n",
       " 115,\n",
       " 32,\n",
       " 100,\n",
       " 108,\n",
       " 102,\n",
       " 115,\n",
       " 10,\n",
       " 100,\n",
       " 102,\n",
       " 115,\n",
       " 100,\n",
       " 108,\n",
       " 102,\n",
       " 106,\n",
       " 108,\n",
       " 104,\n",
       " 115,\n",
       " 100,\n",
       " 32,\n",
       " 107,\n",
       " 102,\n",
       " 106,\n",
       " 115,\n",
       " 100,\n",
       " 108,\n",
       " 102,\n",
       " 104,\n",
       " 115,\n",
       " 107,\n",
       " 100,\n",
       " 106,\n",
       " 102,\n",
       " 104,\n",
       " 32,\n",
       " 115,\n",
       " 100,\n",
       " 102,\n",
       " 115,\n",
       " 100,\n",
       " 102,\n",
       " 115,\n",
       " 10,\n",
       " 10,\n",
       " 115,\n",
       " 100,\n",
       " 102,\n",
       " 108,\n",
       " 115,\n",
       " 106,\n",
       " 107,\n",
       " 100,\n",
       " 102,\n",
       " 32,\n",
       " 115,\n",
       " 10,\n",
       " 100,\n",
       " 102,\n",
       " 10,\n",
       " 115,\n",
       " 100,\n",
       " 102,\n",
       " 108,\n",
       " 106,\n",
       " 115,\n",
       " 104,\n",
       " 100,\n",
       " 32,\n",
       " 102,\n",
       " 10,\n",
       " 10,\n",
       " 208,\n",
       " 178,\n",
       " 209,\n",
       " 150,\n",
       " 208,\n",
       " 180,\n",
       " 208,\n",
       " 190,\n",
       " 208,\n",
       " 176,\n",
       " 209,\n",
       " 150,\n",
       " 32,\n",
       " 208,\n",
       " 180,\n",
       " 208,\n",
       " 178,\n",
       " 208,\n",
       " 187,\n",
       " 208,\n",
       " 176,\n",
       " 208,\n",
       " 190,\n",
       " 32,\n",
       " 209,\n",
       " 150,\n",
       " 208,\n",
       " 180,\n",
       " 208,\n",
       " 187,\n",
       " 208,\n",
       " 176,\n",
       " 208,\n",
       " 190,\n",
       " 209,\n",
       " 132,\n",
       " 208,\n",
       " 180,\n",
       " 209,\n",
       " 150,\n",
       " 208,\n",
       " 187,\n",
       " 208,\n",
       " 190,\n",
       " 208,\n",
       " 178,\n",
       " 32,\n",
       " 208,\n",
       " 180,\n",
       " 209,\n",
       " 132,\n",
       " 208,\n",
       " 187,\n",
       " 208,\n",
       " 190,\n",
       " 208,\n",
       " 176,\n",
       " 32,\n",
       " 208,\n",
       " 180,\n",
       " 209,\n",
       " 150,\n",
       " 208,\n",
       " 178,\n",
       " 208,\n",
       " 176,\n",
       " 10,\n",
       " 209,\n",
       " 132,\n",
       " 209,\n",
       " 150,\n",
       " 208,\n",
       " 178,\n",
       " 208,\n",
       " 180,\n",
       " 209,\n",
       " 132,\n",
       " 208,\n",
       " 176,\n",
       " 208,\n",
       " 190,\n",
       " 32,\n",
       " 209,\n",
       " 150,\n",
       " 208,\n",
       " 190,\n",
       " 208,\n",
       " 178,\n",
       " 208,\n",
       " 176,\n",
       " 10,\n",
       " 208,\n",
       " 180,\n",
       " 209,\n",
       " 150,\n",
       " 208,\n",
       " 178,\n",
       " 208,\n",
       " 176,\n",
       " 208,\n",
       " 190,\n",
       " 32,\n",
       " 209,\n",
       " 150,\n",
       " 208,\n",
       " 180,\n",
       " 208,\n",
       " 178,\n",
       " 208,\n",
       " 187,\n",
       " 208,\n",
       " 176,\n",
       " 208,\n",
       " 190,\n",
       " 209,\n",
       " 150,\n",
       " 10,\n",
       " 208,\n",
       " 176,\n",
       " 208,\n",
       " 178,\n",
       " 209,\n",
       " 132,\n",
       " 209,\n",
       " 150,\n",
       " 209,\n",
       " 150,\n",
       " 208,\n",
       " 178,\n",
       " 208,\n",
       " 180,\n",
       " 209,\n",
       " 132,\n",
       " 208,\n",
       " 187,\n",
       " 209,\n",
       " 150,\n",
       " 208,\n",
       " 190,\n",
       " 208,\n",
       " 178,\n",
       " 32,\n",
       " 10,\n",
       " 10]"
      ]
     },
     "execution_count": 21,
     "metadata": {},
     "output_type": "execute_result"
    }
   ],
   "source": [
    "list(binary_data)"
   ]
  },
  {
   "cell_type": "code",
   "execution_count": 52,
   "id": "0f6ab6f4",
   "metadata": {},
   "outputs": [
    {
     "data": {
      "text/plain": [
       "KeyboardInterrupt"
      ]
     },
     "execution_count": 52,
     "metadata": {},
     "output_type": "execute_result"
    }
   ],
   "source": [
    "KeyboardInterrupt"
   ]
  },
  {
   "cell_type": "code",
   "execution_count": null,
   "id": "7045b153",
   "metadata": {},
   "outputs": [],
   "source": [
    "try: \n",
    "    pass \n",
    "except Exception as e: \n",
    "    print(e)\n"
   ]
  },
  {
   "cell_type": "code",
   "execution_count": null,
   "id": "d18c99ce",
   "metadata": {},
   "outputs": [],
   "source": [
    "with open('test.txt', 'r') as file: \n",
    "    tmp = file.read() \n",
    "    tmp.split() \n",
    "\n",
    "\n",
    "try: \n",
    "    file = open('test.txt', 'r')\n",
    "    tmp = file.read() \n",
    "    tmp.split() \n",
    "except Exception as e: \n",
    "    print(\"Сталася помилка:\", e)\n",
    "    raise e \n",
    "finally: \n",
    "    file.close() \n"
   ]
  },
  {
   "cell_type": "code",
   "execution_count": 50,
   "id": "044470eb",
   "metadata": {},
   "outputs": [
    {
     "name": "stdout",
     "output_type": "stream",
     "text": [
      "сталася невідома помилка: unhashable type: 'list'\n",
      "ми норм закінчили\n"
     ]
    }
   ],
   "source": [
    "try: \n",
    "    {'sldfkjsdkf': 'sdlfk'}[['sfdklks']] = 12\n",
    "    ['sdf'][2]\n",
    "    12 / 0\n",
    "except IndexError: \n",
    "    print('сталася помилка з індексом')\n",
    "except ZeroDivisionError: \n",
    "    print('помилка')\n",
    "except Exception as e: \n",
    "    print('сталася невідома помилка:', e)\n",
    "finally: \n",
    "    print('ми норм закінчили')"
   ]
  }
 ],
 "metadata": {
  "kernelspec": {
   "display_name": "Python [conda env:root] *",
   "language": "python",
   "name": "conda-root-py"
  },
  "language_info": {
   "codemirror_mode": {
    "name": "ipython",
    "version": 3
   },
   "file_extension": ".py",
   "mimetype": "text/x-python",
   "name": "python",
   "nbconvert_exporter": "python",
   "pygments_lexer": "ipython3",
   "version": "3.9.12"
  }
 },
 "nbformat": 4,
 "nbformat_minor": 5
}
